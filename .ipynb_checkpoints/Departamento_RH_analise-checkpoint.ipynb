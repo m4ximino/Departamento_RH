{
 "cells": [
  {
   "cell_type": "code",
   "execution_count": 1,
   "metadata": {},
   "outputs": [],
   "source": [
    "import pandas as pd\n",
    "import numpy as np\n",
    "import seaborn as sns\n",
    "import matplotlib.pyplot as plt"
   ]
  },
  {
   "cell_type": "code",
   "execution_count": 2,
   "metadata": {},
   "outputs": [
    {
     "data": {
      "text/plain": [
       "(311, 37)"
      ]
     },
     "execution_count": 2,
     "metadata": {},
     "output_type": "execute_result"
    }
   ],
   "source": [
    "df = pd.read_csv('./departamento_de_rh_tratado.csv')\n",
    "df.shape"
   ]
  },
  {
   "cell_type": "code",
   "execution_count": 3,
   "metadata": {},
   "outputs": [
    {
     "data": {
      "text/html": [
       "<div>\n",
       "<style scoped>\n",
       "    .dataframe tbody tr th:only-of-type {\n",
       "        vertical-align: middle;\n",
       "    }\n",
       "\n",
       "    .dataframe tbody tr th {\n",
       "        vertical-align: top;\n",
       "    }\n",
       "\n",
       "    .dataframe thead th {\n",
       "        text-align: right;\n",
       "    }\n",
       "</style>\n",
       "<table border=\"1\" class=\"dataframe\">\n",
       "  <thead>\n",
       "    <tr style=\"text-align: right;\">\n",
       "      <th></th>\n",
       "      <th>Unnamed: 0</th>\n",
       "      <th>Nome</th>\n",
       "      <th>ID</th>\n",
       "      <th>CASADO</th>\n",
       "      <th>ESTADO_CIVIL</th>\n",
       "      <th>GENERO</th>\n",
       "      <th>STATUS_EMPREGO</th>\n",
       "      <th>DEPARTAMENTOID</th>\n",
       "      <th>PONTUACAO_DESEMPENHO</th>\n",
       "      <th>DIVERSIDADE</th>\n",
       "      <th>...</th>\n",
       "      <th>ID_GERENTE</th>\n",
       "      <th>FONTE_RECRUTAMENTO</th>\n",
       "      <th>PONTUACAO_PERFORMACE</th>\n",
       "      <th>ENGAJAMENTO</th>\n",
       "      <th>PONTUACAO_SATISFACAO</th>\n",
       "      <th>N_PROJETOS</th>\n",
       "      <th>DATA_DESEMPENHO</th>\n",
       "      <th>N_ATRASOS</th>\n",
       "      <th>N_AUSENTE</th>\n",
       "      <th>Idade</th>\n",
       "    </tr>\n",
       "  </thead>\n",
       "  <tbody>\n",
       "    <tr>\n",
       "      <th>0</th>\n",
       "      <td>0</td>\n",
       "      <td>Adinolfi, Wilson  K</td>\n",
       "      <td>10026</td>\n",
       "      <td>0</td>\n",
       "      <td>0</td>\n",
       "      <td>1</td>\n",
       "      <td>1</td>\n",
       "      <td>5</td>\n",
       "      <td>4</td>\n",
       "      <td>0</td>\n",
       "      <td>...</td>\n",
       "      <td>22.0</td>\n",
       "      <td>LinkedIn</td>\n",
       "      <td>Exceeds</td>\n",
       "      <td>4.60</td>\n",
       "      <td>5</td>\n",
       "      <td>0</td>\n",
       "      <td>1/17/2019</td>\n",
       "      <td>0</td>\n",
       "      <td>1</td>\n",
       "      <td>40</td>\n",
       "    </tr>\n",
       "    <tr>\n",
       "      <th>1</th>\n",
       "      <td>1</td>\n",
       "      <td>Ait Sidi, Karthikeyan</td>\n",
       "      <td>10084</td>\n",
       "      <td>1</td>\n",
       "      <td>1</td>\n",
       "      <td>1</td>\n",
       "      <td>5</td>\n",
       "      <td>3</td>\n",
       "      <td>3</td>\n",
       "      <td>0</td>\n",
       "      <td>...</td>\n",
       "      <td>4.0</td>\n",
       "      <td>Indeed</td>\n",
       "      <td>Fully Meets</td>\n",
       "      <td>4.96</td>\n",
       "      <td>3</td>\n",
       "      <td>6</td>\n",
       "      <td>2/24/2016</td>\n",
       "      <td>0</td>\n",
       "      <td>17</td>\n",
       "      <td>48</td>\n",
       "    </tr>\n",
       "    <tr>\n",
       "      <th>2</th>\n",
       "      <td>2</td>\n",
       "      <td>Akinkuolie, Sarah</td>\n",
       "      <td>10196</td>\n",
       "      <td>1</td>\n",
       "      <td>1</td>\n",
       "      <td>0</td>\n",
       "      <td>5</td>\n",
       "      <td>5</td>\n",
       "      <td>3</td>\n",
       "      <td>0</td>\n",
       "      <td>...</td>\n",
       "      <td>20.0</td>\n",
       "      <td>LinkedIn</td>\n",
       "      <td>Fully Meets</td>\n",
       "      <td>3.02</td>\n",
       "      <td>3</td>\n",
       "      <td>0</td>\n",
       "      <td>5/15/2012</td>\n",
       "      <td>0</td>\n",
       "      <td>3</td>\n",
       "      <td>35</td>\n",
       "    </tr>\n",
       "    <tr>\n",
       "      <th>3</th>\n",
       "      <td>3</td>\n",
       "      <td>Alagbe,Trina</td>\n",
       "      <td>10088</td>\n",
       "      <td>1</td>\n",
       "      <td>1</td>\n",
       "      <td>0</td>\n",
       "      <td>1</td>\n",
       "      <td>5</td>\n",
       "      <td>3</td>\n",
       "      <td>0</td>\n",
       "      <td>...</td>\n",
       "      <td>16.0</td>\n",
       "      <td>Indeed</td>\n",
       "      <td>Fully Meets</td>\n",
       "      <td>4.84</td>\n",
       "      <td>5</td>\n",
       "      <td>0</td>\n",
       "      <td>1/3/2019</td>\n",
       "      <td>0</td>\n",
       "      <td>15</td>\n",
       "      <td>35</td>\n",
       "    </tr>\n",
       "    <tr>\n",
       "      <th>4</th>\n",
       "      <td>4</td>\n",
       "      <td>Anderson, Carol</td>\n",
       "      <td>10069</td>\n",
       "      <td>0</td>\n",
       "      <td>2</td>\n",
       "      <td>0</td>\n",
       "      <td>5</td>\n",
       "      <td>5</td>\n",
       "      <td>3</td>\n",
       "      <td>0</td>\n",
       "      <td>...</td>\n",
       "      <td>39.0</td>\n",
       "      <td>Google Search</td>\n",
       "      <td>Fully Meets</td>\n",
       "      <td>5.00</td>\n",
       "      <td>4</td>\n",
       "      <td>0</td>\n",
       "      <td>2/1/2016</td>\n",
       "      <td>0</td>\n",
       "      <td>2</td>\n",
       "      <td>34</td>\n",
       "    </tr>\n",
       "  </tbody>\n",
       "</table>\n",
       "<p>5 rows × 37 columns</p>\n",
       "</div>"
      ],
      "text/plain": [
       "   Unnamed: 0                      Nome     ID  CASADO  ESTADO_CIVIL  GENERO  \\\n",
       "0           0       Adinolfi, Wilson  K  10026       0             0       1   \n",
       "1           1  Ait Sidi, Karthikeyan     10084       1             1       1   \n",
       "2           2         Akinkuolie, Sarah  10196       1             1       0   \n",
       "3           3              Alagbe,Trina  10088       1             1       0   \n",
       "4           4          Anderson, Carol   10069       0             2       0   \n",
       "\n",
       "   STATUS_EMPREGO  DEPARTAMENTOID  PONTUACAO_DESEMPENHO  DIVERSIDADE  ...  \\\n",
       "0               1               5                     4            0  ...   \n",
       "1               5               3                     3            0  ...   \n",
       "2               5               5                     3            0  ...   \n",
       "3               1               5                     3            0  ...   \n",
       "4               5               5                     3            0  ...   \n",
       "\n",
       "   ID_GERENTE  FONTE_RECRUTAMENTO  PONTUACAO_PERFORMACE ENGAJAMENTO  \\\n",
       "0        22.0            LinkedIn               Exceeds        4.60   \n",
       "1         4.0              Indeed           Fully Meets        4.96   \n",
       "2        20.0            LinkedIn           Fully Meets        3.02   \n",
       "3        16.0              Indeed           Fully Meets        4.84   \n",
       "4        39.0       Google Search           Fully Meets        5.00   \n",
       "\n",
       "  PONTUACAO_SATISFACAO  N_PROJETOS DATA_DESEMPENHO N_ATRASOS N_AUSENTE Idade  \n",
       "0                    5           0       1/17/2019         0         1    40  \n",
       "1                    3           6       2/24/2016         0        17    48  \n",
       "2                    3           0       5/15/2012         0         3    35  \n",
       "3                    5           0        1/3/2019         0        15    35  \n",
       "4                    4           0        2/1/2016         0         2    34  \n",
       "\n",
       "[5 rows x 37 columns]"
      ]
     },
     "execution_count": 3,
     "metadata": {},
     "output_type": "execute_result"
    }
   ],
   "source": [
    "df.head()"
   ]
  },
  {
   "cell_type": "code",
   "execution_count": 4,
   "metadata": {},
   "outputs": [],
   "source": [
    "df.drop(['Unnamed: 0', 'ID'], axis = 1, inplace=True)"
   ]
  },
  {
   "cell_type": "code",
   "execution_count": 5,
   "metadata": {},
   "outputs": [
    {
     "data": {
      "text/plain": [
       "array([[<AxesSubplot:title={'center':'CASADO'}>,\n",
       "        <AxesSubplot:title={'center':'ESTADO_CIVIL'}>,\n",
       "        <AxesSubplot:title={'center':'GENERO'}>,\n",
       "        <AxesSubplot:title={'center':'STATUS_EMPREGO'}>],\n",
       "       [<AxesSubplot:title={'center':'DEPARTAMENTOID'}>,\n",
       "        <AxesSubplot:title={'center':'PONTUACAO_DESEMPENHO'}>,\n",
       "        <AxesSubplot:title={'center':'DIVERSIDADE'}>,\n",
       "        <AxesSubplot:title={'center':'SALARIO'}>],\n",
       "       [<AxesSubplot:title={'center':'DEMITIDO'}>,\n",
       "        <AxesSubplot:title={'center':'POSICAO'}>,\n",
       "        <AxesSubplot:title={'center':'CODIGO_POSTAL'}>,\n",
       "        <AxesSubplot:title={'center':'ID_GERENTE'}>],\n",
       "       [<AxesSubplot:title={'center':'ENGAJAMENTO'}>,\n",
       "        <AxesSubplot:title={'center':'PONTUACAO_SATISFACAO'}>,\n",
       "        <AxesSubplot:title={'center':'N_PROJETOS'}>,\n",
       "        <AxesSubplot:title={'center':'N_ATRASOS'}>],\n",
       "       [<AxesSubplot:title={'center':'N_AUSENTE'}>,\n",
       "        <AxesSubplot:title={'center':'Idade'}>, <AxesSubplot:>,\n",
       "        <AxesSubplot:>]], dtype=object)"
      ]
     },
     "execution_count": 5,
     "metadata": {},
     "output_type": "execute_result"
    },
    {
     "data": {
      "image/png": "[encoded data removed]",
      "text/plain": [
       "<Figure size 2500x2500 with 20 Axes>"
      ]
     },
     "metadata": {},
     "output_type": "display_data"
    }
   ],
   "source": [
    "df.hist(bins=30, figsize=(25,25), color ='r')"
   ]
  },
  {
   "cell_type": "code",
   "execution_count": 6,
   "metadata": {},
   "outputs": [],
   "source": [
    "demitidos_df = df[df['DEMITIDO'] == 1]\n",
    "funcionarios_df = df[df['DEMITIDO'] == 0]"
   ]
  },
  {
   "cell_type": "code",
   "execution_count": 7,
   "metadata": {},
   "outputs": [
    {
     "name": "stdout",
     "output_type": "stream",
     "text": [
      "Total =  311\n",
      "Número de funcionários que saíram da empresa =  104\n",
      "Porcentagem de funcionários que saíram da empresa =  33.440514469453376\n",
      "Número de pessoa que permeceram na empresa =  207\n",
      "Porcentagem de funcionários que ficaram na empresa =  66.55948553054662\n"
     ]
    }
   ],
   "source": [
    "print(\"Total = \", len(df))\n",
    "print(\"Número de funcionários que saíram da empresa = \", len(demitidos_df))\n",
    "print(\"Porcentagem de funcionários que saíram da empresa = \", (len(demitidos_df) / len(df)) * 100)\n",
    "print('Número de pessoa que permeceram na empresa = ', len(funcionarios_df))\n",
    "print('Porcentagem de funcionários que ficaram na empresa = ', (len(funcionarios_df) / len(df)) * 100)"
   ]
  },
  {
   "cell_type": "code",
   "execution_count": 8,
   "metadata": {},
   "outputs": [],
   "source": [
    "import plotly.express as px"
   ]
  },
  {
   "cell_type": "code",
   "execution_count": 9,
   "metadata": {},
   "outputs": [],
   "source": [
    "pix = df.copy()\n",
    "pix.loc[pix['DEMITIDO'] ==  0, 'DEMITIDO'] = \"Funcionario\"\n",
    "pix.loc[pix['DEMITIDO'] ==  1, 'DEMITIDO'] = \"Demitido\"\n"
   ]
  },
  {
   "cell_type": "code",
   "execution_count": 10,
   "metadata": {},
   "outputs": [
    {
     "data": {
      "text/html": [
       "<div>\n",
       "<style scoped>\n",
       "    .dataframe tbody tr th:only-of-type {\n",
       "        vertical-align: middle;\n",
       "    }\n",
       "\n",
       "    .dataframe tbody tr th {\n",
       "        vertical-align: top;\n",
       "    }\n",
       "\n",
       "    .dataframe thead th {\n",
       "        text-align: right;\n",
       "    }\n",
       "</style>\n",
       "<table border=\"1\" class=\"dataframe\">\n",
       "  <thead>\n",
       "    <tr style=\"text-align: right;\">\n",
       "      <th></th>\n",
       "      <th>Nome</th>\n",
       "      <th>CASADO</th>\n",
       "      <th>ESTADO_CIVIL</th>\n",
       "      <th>GENERO</th>\n",
       "      <th>STATUS_EMPREGO</th>\n",
       "      <th>DEPARTAMENTOID</th>\n",
       "      <th>PONTUACAO_DESEMPENHO</th>\n",
       "      <th>DIVERSIDADE</th>\n",
       "      <th>SALARIO</th>\n",
       "      <th>DEMITIDO</th>\n",
       "      <th>...</th>\n",
       "      <th>ID_GERENTE</th>\n",
       "      <th>FONTE_RECRUTAMENTO</th>\n",
       "      <th>PONTUACAO_PERFORMACE</th>\n",
       "      <th>ENGAJAMENTO</th>\n",
       "      <th>PONTUACAO_SATISFACAO</th>\n",
       "      <th>N_PROJETOS</th>\n",
       "      <th>DATA_DESEMPENHO</th>\n",
       "      <th>N_ATRASOS</th>\n",
       "      <th>N_AUSENTE</th>\n",
       "      <th>Idade</th>\n",
       "    </tr>\n",
       "  </thead>\n",
       "  <tbody>\n",
       "    <tr>\n",
       "      <th>0</th>\n",
       "      <td>Adinolfi, Wilson  K</td>\n",
       "      <td>0</td>\n",
       "      <td>0</td>\n",
       "      <td>1</td>\n",
       "      <td>1</td>\n",
       "      <td>5</td>\n",
       "      <td>4</td>\n",
       "      <td>0</td>\n",
       "      <td>62506</td>\n",
       "      <td>Funcionario</td>\n",
       "      <td>...</td>\n",
       "      <td>22.0</td>\n",
       "      <td>LinkedIn</td>\n",
       "      <td>Exceeds</td>\n",
       "      <td>4.60</td>\n",
       "      <td>5</td>\n",
       "      <td>0</td>\n",
       "      <td>1/17/2019</td>\n",
       "      <td>0</td>\n",
       "      <td>1</td>\n",
       "      <td>40</td>\n",
       "    </tr>\n",
       "    <tr>\n",
       "      <th>1</th>\n",
       "      <td>Ait Sidi, Karthikeyan</td>\n",
       "      <td>1</td>\n",
       "      <td>1</td>\n",
       "      <td>1</td>\n",
       "      <td>5</td>\n",
       "      <td>3</td>\n",
       "      <td>3</td>\n",
       "      <td>0</td>\n",
       "      <td>104437</td>\n",
       "      <td>Demitido</td>\n",
       "      <td>...</td>\n",
       "      <td>4.0</td>\n",
       "      <td>Indeed</td>\n",
       "      <td>Fully Meets</td>\n",
       "      <td>4.96</td>\n",
       "      <td>3</td>\n",
       "      <td>6</td>\n",
       "      <td>2/24/2016</td>\n",
       "      <td>0</td>\n",
       "      <td>17</td>\n",
       "      <td>48</td>\n",
       "    </tr>\n",
       "    <tr>\n",
       "      <th>2</th>\n",
       "      <td>Akinkuolie, Sarah</td>\n",
       "      <td>1</td>\n",
       "      <td>1</td>\n",
       "      <td>0</td>\n",
       "      <td>5</td>\n",
       "      <td>5</td>\n",
       "      <td>3</td>\n",
       "      <td>0</td>\n",
       "      <td>64955</td>\n",
       "      <td>Demitido</td>\n",
       "      <td>...</td>\n",
       "      <td>20.0</td>\n",
       "      <td>LinkedIn</td>\n",
       "      <td>Fully Meets</td>\n",
       "      <td>3.02</td>\n",
       "      <td>3</td>\n",
       "      <td>0</td>\n",
       "      <td>5/15/2012</td>\n",
       "      <td>0</td>\n",
       "      <td>3</td>\n",
       "      <td>35</td>\n",
       "    </tr>\n",
       "    <tr>\n",
       "      <th>3</th>\n",
       "      <td>Alagbe,Trina</td>\n",
       "      <td>1</td>\n",
       "      <td>1</td>\n",
       "      <td>0</td>\n",
       "      <td>1</td>\n",
       "      <td>5</td>\n",
       "      <td>3</td>\n",
       "      <td>0</td>\n",
       "      <td>64991</td>\n",
       "      <td>Funcionario</td>\n",
       "      <td>...</td>\n",
       "      <td>16.0</td>\n",
       "      <td>Indeed</td>\n",
       "      <td>Fully Meets</td>\n",
       "      <td>4.84</td>\n",
       "      <td>5</td>\n",
       "      <td>0</td>\n",
       "      <td>1/3/2019</td>\n",
       "      <td>0</td>\n",
       "      <td>15</td>\n",
       "      <td>35</td>\n",
       "    </tr>\n",
       "    <tr>\n",
       "      <th>4</th>\n",
       "      <td>Anderson, Carol</td>\n",
       "      <td>0</td>\n",
       "      <td>2</td>\n",
       "      <td>0</td>\n",
       "      <td>5</td>\n",
       "      <td>5</td>\n",
       "      <td>3</td>\n",
       "      <td>0</td>\n",
       "      <td>50825</td>\n",
       "      <td>Demitido</td>\n",
       "      <td>...</td>\n",
       "      <td>39.0</td>\n",
       "      <td>Google Search</td>\n",
       "      <td>Fully Meets</td>\n",
       "      <td>5.00</td>\n",
       "      <td>4</td>\n",
       "      <td>0</td>\n",
       "      <td>2/1/2016</td>\n",
       "      <td>0</td>\n",
       "      <td>2</td>\n",
       "      <td>34</td>\n",
       "    </tr>\n",
       "    <tr>\n",
       "      <th>...</th>\n",
       "      <td>...</td>\n",
       "      <td>...</td>\n",
       "      <td>...</td>\n",
       "      <td>...</td>\n",
       "      <td>...</td>\n",
       "      <td>...</td>\n",
       "      <td>...</td>\n",
       "      <td>...</td>\n",
       "      <td>...</td>\n",
       "      <td>...</td>\n",
       "      <td>...</td>\n",
       "      <td>...</td>\n",
       "      <td>...</td>\n",
       "      <td>...</td>\n",
       "      <td>...</td>\n",
       "      <td>...</td>\n",
       "      <td>...</td>\n",
       "      <td>...</td>\n",
       "      <td>...</td>\n",
       "      <td>...</td>\n",
       "      <td>...</td>\n",
       "    </tr>\n",
       "    <tr>\n",
       "      <th>306</th>\n",
       "      <td>Woodson, Jason</td>\n",
       "      <td>0</td>\n",
       "      <td>0</td>\n",
       "      <td>1</td>\n",
       "      <td>1</td>\n",
       "      <td>5</td>\n",
       "      <td>3</td>\n",
       "      <td>0</td>\n",
       "      <td>65893</td>\n",
       "      <td>Funcionario</td>\n",
       "      <td>...</td>\n",
       "      <td>20.0</td>\n",
       "      <td>LinkedIn</td>\n",
       "      <td>Fully Meets</td>\n",
       "      <td>4.07</td>\n",
       "      <td>4</td>\n",
       "      <td>0</td>\n",
       "      <td>2/28/2019</td>\n",
       "      <td>0</td>\n",
       "      <td>13</td>\n",
       "      <td>38</td>\n",
       "    </tr>\n",
       "    <tr>\n",
       "      <th>307</th>\n",
       "      <td>Ybarra, Catherine</td>\n",
       "      <td>0</td>\n",
       "      <td>0</td>\n",
       "      <td>0</td>\n",
       "      <td>5</td>\n",
       "      <td>5</td>\n",
       "      <td>1</td>\n",
       "      <td>0</td>\n",
       "      <td>48513</td>\n",
       "      <td>Demitido</td>\n",
       "      <td>...</td>\n",
       "      <td>12.0</td>\n",
       "      <td>Google Search</td>\n",
       "      <td>PIP</td>\n",
       "      <td>3.20</td>\n",
       "      <td>2</td>\n",
       "      <td>0</td>\n",
       "      <td>9/2/2015</td>\n",
       "      <td>5</td>\n",
       "      <td>4</td>\n",
       "      <td>41</td>\n",
       "    </tr>\n",
       "    <tr>\n",
       "      <th>308</th>\n",
       "      <td>Zamora, Jennifer</td>\n",
       "      <td>0</td>\n",
       "      <td>0</td>\n",
       "      <td>0</td>\n",
       "      <td>1</td>\n",
       "      <td>3</td>\n",
       "      <td>4</td>\n",
       "      <td>0</td>\n",
       "      <td>220450</td>\n",
       "      <td>Funcionario</td>\n",
       "      <td>...</td>\n",
       "      <td>2.0</td>\n",
       "      <td>Employee Referral</td>\n",
       "      <td>Exceeds</td>\n",
       "      <td>4.60</td>\n",
       "      <td>5</td>\n",
       "      <td>6</td>\n",
       "      <td>2/21/2019</td>\n",
       "      <td>0</td>\n",
       "      <td>16</td>\n",
       "      <td>44</td>\n",
       "    </tr>\n",
       "    <tr>\n",
       "      <th>309</th>\n",
       "      <td>Zhou, Julia</td>\n",
       "      <td>0</td>\n",
       "      <td>0</td>\n",
       "      <td>0</td>\n",
       "      <td>1</td>\n",
       "      <td>3</td>\n",
       "      <td>3</td>\n",
       "      <td>0</td>\n",
       "      <td>89292</td>\n",
       "      <td>Funcionario</td>\n",
       "      <td>...</td>\n",
       "      <td>4.0</td>\n",
       "      <td>Employee Referral</td>\n",
       "      <td>Fully Meets</td>\n",
       "      <td>5.00</td>\n",
       "      <td>3</td>\n",
       "      <td>5</td>\n",
       "      <td>2/1/2019</td>\n",
       "      <td>0</td>\n",
       "      <td>11</td>\n",
       "      <td>44</td>\n",
       "    </tr>\n",
       "    <tr>\n",
       "      <th>310</th>\n",
       "      <td>Zima, Colleen</td>\n",
       "      <td>0</td>\n",
       "      <td>4</td>\n",
       "      <td>0</td>\n",
       "      <td>1</td>\n",
       "      <td>5</td>\n",
       "      <td>3</td>\n",
       "      <td>0</td>\n",
       "      <td>45046</td>\n",
       "      <td>Funcionario</td>\n",
       "      <td>...</td>\n",
       "      <td>14.0</td>\n",
       "      <td>LinkedIn</td>\n",
       "      <td>Fully Meets</td>\n",
       "      <td>4.50</td>\n",
       "      <td>5</td>\n",
       "      <td>0</td>\n",
       "      <td>1/30/2019</td>\n",
       "      <td>0</td>\n",
       "      <td>2</td>\n",
       "      <td>45</td>\n",
       "    </tr>\n",
       "  </tbody>\n",
       "</table>\n",
       "<p>311 rows × 35 columns</p>\n",
       "</div>"
      ],
      "text/plain": [
       "                         Nome  CASADO  ESTADO_CIVIL  GENERO  STATUS_EMPREGO  \\\n",
       "0         Adinolfi, Wilson  K       0             0       1               1   \n",
       "1    Ait Sidi, Karthikeyan          1             1       1               5   \n",
       "2           Akinkuolie, Sarah       1             1       0               5   \n",
       "3                Alagbe,Trina       1             1       0               1   \n",
       "4            Anderson, Carol        0             2       0               5   \n",
       "..                        ...     ...           ...     ...             ...   \n",
       "306            Woodson, Jason       0             0       1               1   \n",
       "307        Ybarra, Catherine        0             0       0               5   \n",
       "308          Zamora, Jennifer       0             0       0               1   \n",
       "309               Zhou, Julia       0             0       0               1   \n",
       "310             Zima, Colleen       0             4       0               1   \n",
       "\n",
       "     DEPARTAMENTOID  PONTUACAO_DESEMPENHO  DIVERSIDADE  SALARIO     DEMITIDO  \\\n",
       "0                 5                     4            0    62506  Funcionario   \n",
       "1                 3                     3            0   104437     Demitido   \n",
       "2                 5                     3            0    64955     Demitido   \n",
       "3                 5                     3            0    64991  Funcionario   \n",
       "4                 5                     3            0    50825     Demitido   \n",
       "..              ...                   ...          ...      ...          ...   \n",
       "306               5                     3            0    65893  Funcionario   \n",
       "307               5                     1            0    48513     Demitido   \n",
       "308               3                     4            0   220450  Funcionario   \n",
       "309               3                     3            0    89292  Funcionario   \n",
       "310               5                     3            0    45046  Funcionario   \n",
       "\n",
       "     ...  ID_GERENTE FONTE_RECRUTAMENTO PONTUACAO_PERFORMACE  ENGAJAMENTO  \\\n",
       "0    ...        22.0           LinkedIn              Exceeds         4.60   \n",
       "1    ...         4.0             Indeed          Fully Meets         4.96   \n",
       "2    ...        20.0           LinkedIn          Fully Meets         3.02   \n",
       "3    ...        16.0             Indeed          Fully Meets         4.84   \n",
       "4    ...        39.0      Google Search          Fully Meets         5.00   \n",
       "..   ...         ...                ...                  ...          ...   \n",
       "306  ...        20.0           LinkedIn          Fully Meets         4.07   \n",
       "307  ...        12.0      Google Search                  PIP         3.20   \n",
       "308  ...         2.0  Employee Referral              Exceeds         4.60   \n",
       "309  ...         4.0  Employee Referral          Fully Meets         5.00   \n",
       "310  ...        14.0           LinkedIn          Fully Meets         4.50   \n",
       "\n",
       "    PONTUACAO_SATISFACAO N_PROJETOS DATA_DESEMPENHO N_ATRASOS N_AUSENTE Idade  \n",
       "0                      5          0       1/17/2019         0         1    40  \n",
       "1                      3          6       2/24/2016         0        17    48  \n",
       "2                      3          0       5/15/2012         0         3    35  \n",
       "3                      5          0        1/3/2019         0        15    35  \n",
       "4                      4          0        2/1/2016         0         2    34  \n",
       "..                   ...        ...             ...       ...       ...   ...  \n",
       "306                    4          0       2/28/2019         0        13    38  \n",
       "307                    2          0        9/2/2015         5         4    41  \n",
       "308                    5          6       2/21/2019         0        16    44  \n",
       "309                    3          5        2/1/2019         0        11    44  \n",
       "310                    5          0       1/30/2019         0         2    45  \n",
       "\n",
       "[311 rows x 35 columns]"
      ]
     },
     "execution_count": 10,
     "metadata": {},
     "output_type": "execute_result"
    }
   ],
   "source": [
    "pix"
   ]
  },
  {
   "cell_type": "code",
   "execution_count": 11,
   "metadata": {},
   "outputs": [
    {
     "data": {
      "application/vnd.plotly.v1+json": {
       "config": {
        "plotlyServerURL": "https://plot.ly"
       },
       "data": [
        {
         "domain": {
          "x": [
           0,
           1
          ],
          "y": [
           0,
           1
          ]
         },
         "hovertemplate": "DEMITIDO=%{label}<extra></extra>",
         "labels": [
          "Funcionario",
          "Demitido",
          "Demitido",
          "Funcionario",
          "Demitido",
          "Funcionario",
          "Funcionario",
          "Funcionario",
          "Funcionario",
          "Funcionario",
          "Demitido",
          "Demitido",
          "Funcionario",
          "Funcionario",
          "Demitido",
          "Demitido",
          "Funcionario",
          "Funcionario",
          "Demitido",
          "Funcionario",
          "Funcionario",
          "Funcionario",
          "Funcionario",
          "Funcionario",
          "Demitido",
          "Demitido",
          "Funcionario",
          "Demitido",
          "Demitido",
          "Funcionario",
          "Funcionario",
          "Funcionario",
          "Demitido",
          "Funcionario",
          "Funcionario",
          "Funcionario",
          "Funcionario",
          "Funcionario",
          "Funcionario",
          "Funcionario",
          "Funcionario",
          "Funcionario",
          "Funcionario",
          "Funcionario",
          "Funcionario",
          "Funcionario",
          "Demitido",
          "Funcionario",
          "Funcionario",
          "Demitido",
          "Demitido",
          "Funcionario",
          "Funcionario",
          "Demitido",
          "Funcionario",
          "Funcionario",
          "Funcionario",
          "Funcionario",
          "Funcionario",
          "Funcionario",
          "Funcionario",
          "Funcionario",
          "Funcionario",
          "Funcionario",
          "Funcionario",
          "Demitido",
          "Funcionario",
          "Funcionario",
          "Demitido",
          "Funcionario",
          "Funcionario",
          "Funcionario",
          "Funcionario",
          "Funcionario",
          "Funcionario",
          "Funcionario",
          "Funcionario",
          "Funcionario",
          "Funcionario",
          "Funcionario",
          "Demitido",
          "Funcionario",
          "Funcionario",
          "Funcionario",
          "Demitido",
          "Demitido",
          "Demitido",
          "Funcionario",
          "Funcionario",
          "Demitido",
          "Funcionario",
          "Funcionario",
          "Funcionario",
          "Demitido",
          "Demitido",
          "Demitido",
          "Funcionario",
          "Funcionario",
          "Funcionario",
          "Funcionario",
          "Funcionario",
          "Funcionario",
          "Funcionario",
          "Demitido",
          "Demitido",
          "Demitido",
          "Funcionario",
          "Funcionario",
          "Demitido",
          "Funcionario",
          "Funcionario",
          "Funcionario",
          "Demitido",
          "Funcionario",
          "Funcionario",
          "Funcionario",
          "Funcionario",
          "Funcionario",
          "Funcionario",
          "Demitido",
          "Funcionario",
          "Demitido",
          "Funcionario",
          "Funcionario",
          "Demitido",
          "Funcionario",
          "Funcionario",
          "Demitido",
          "Funcionario",
          "Demitido",
          "Funcionario",
          "Funcionario",
          "Demitido",
          "Funcionario",
          "Funcionario",
          "Funcionario",
          "Demitido",
          "Demitido",
          "Funcionario",
          "Funcionario",
          "Funcionario",
          "Funcionario",
          "Funcionario",
          "Demitido",
          "Funcionario",
          "Funcionario",
          "Demitido",
          "Demitido",
          "Funcionario",
          "Funcionario",
          "Funcionario",
          "Demitido",
          "Demitido",
          "Funcionario",
          "Funcionario",
          "Funcionario",
          "Funcionario",
          "Demitido",
          "Demitido",
          "Funcionario",
          "Funcionario",
          "Demitido",
          "Funcionario",
          "Demitido",
          "Funcionario",
          "Funcionario",
          "Funcionario",
          "Funcionario",
          "Demitido",
          "Funcionario",
          "Funcionario",
          "Demitido",
          "Funcionario",
          "Funcionario",
          "Demitido",
          "Demitido",
          "Funcionario",
          "Funcionario",
          "Demitido",
          "Funcionario",
          "Funcionario",
          "Funcionario",
          "Funcionario",
          "Funcionario",
          "Funcionario",
          "Demitido",
          "Funcionario",
          "Funcionario",
          "Demitido",
          "Funcionario",
          "Funcionario",
          "Funcionario",
          "Funcionario",
          "Funcionario",
          "Funcionario",
          "Funcionario",
          "Funcionario",
          "Funcionario",
          "Demitido",
          "Demitido",
          "Funcionario",
          "Funcionario",
          "Funcionario",
          "Funcionario",
          "Funcionario",
          "Demitido",
          "Demitido",
          "Funcionario",
          "Funcionario",
          "Funcionario",
          "Funcionario",
          "Demitido",
          "Demitido",
          "Demitido",
          "Demitido",
          "Demitido",
          "Demitido",
          "Demitido",
          "Demitido",
          "Funcionario",
          "Funcionario",
          "Demitido",
          "Funcionario",
          "Funcionario",
          "Demitido",
          "Funcionario",
          "Demitido",
          "Demitido",
          "Funcionario",
          "Demitido",
          "Funcionario",
          "Demitido",
          "Funcionario",
          "Demitido",
          "Demitido",
          "Demitido",
          "Demitido",
          "Funcionario",
          "Funcionario",
          "Demitido",
          "Funcionario",
          "Funcionario",
          "Demitido",
          "Funcionario",
          "Demitido",
          "Funcionario",
          "Funcionario",
          "Demitido",
          "Funcionario",
          "Demitido",
          "Funcionario",
          "Funcionario",
          "Funcionario",
          "Funcionario",
          "Funcionario",
          "Funcionario",
          "Demitido",
          "Funcionario",
          "Funcionario",
          "Demitido",
          "Funcionario",
          "Funcionario",
          "Funcionario",
          "Funcionario",
          "Funcionario",
          "Demitido",
          "Funcionario",
          "Funcionario",
          "Funcionario",
          "Funcionario",
          "Funcionario",
          "Funcionario",
          "Funcionario",
          "Funcionario",
          "Funcionario",
          "Funcionario",
          "Demitido",
          "Demitido",
          "Funcionario",
          "Demitido",
          "Demitido",
          "Funcionario",
          "Funcionario",
          "Funcionario",
          "Demitido",
          "Demitido",
          "Demitido",
          "Funcionario",
          "Funcionario",
          "Demitido",
          "Funcionario",
          "Funcionario",
          "Demitido",
          "Demitido",
          "Funcionario",
          "Funcionario",
          "Demitido",
          "Demitido",
          "Funcionario",
          "Funcionario",
          "Demitido",
          "Demitido",
          "Demitido",
          "Demitido",
          "Demitido",
          "Funcionario",
          "Funcionario",
          "Demitido",
          "Funcionario",
          "Funcionario",
          "Funcionario"
         ],
         "legendgroup": "",
         "name": "",
         "showlegend": true,
         "textposition": "inside",
         "type": "pie"
        }
       ],
       "layout": {
        "legend": {
         "tracegroupgap": 0
        },
        "margin": {
         "t": 60
        },
        "template": {
         "data": {
          "bar": [
           {
            "error_x": {
             "color": "#2a3f5f"
            },
            "error_y": {
             "color": "#2a3f5f"
            },
            "marker": {
             "line": {
              "color": "#E5ECF6",
              "width": 0.5
             },
             "pattern": {
              "fillmode": "overlay",
              "size": 10,
              "solidity": 0.2
             }
            },
            "type": "bar"
           }
          ],
          "barpolar": [
           {
            "marker": {
             "line": {
              "color": "#E5ECF6",
              "width": 0.5
             },
             "pattern": {
              "fillmode": "overlay",
              "size": 10,
              "solidity": 0.2
             }
            },
            "type": "barpolar"
           }
          ],
          "carpet": [
           {
            "aaxis": {
             "endlinecolor": "#2a3f5f",
             "gridcolor": "white",
             "linecolor": "white",
             "minorgridcolor": "white",
             "startlinecolor": "#2a3f5f"
            },
            "baxis": {
             "endlinecolor": "#2a3f5f",
             "gridcolor": "white",
             "linecolor": "white",
             "minorgridcolor": "white",
             "startlinecolor": "#2a3f5f"
            },
            "type": "carpet"
           }
          ],
          "choropleth": [
           {
            "colorbar": {
             "outlinewidth": 0,
             "ticks": ""
            },
            "type": "choropleth"
           }
          ],
          "contour": [
           {
            "colorbar": {
             "outlinewidth": 0,
             "ticks": ""
            },
            "colorscale": [
             [
              0,
              "#0d0887"
             ],
             [
              0.1111111111111111,
              "#46039f"
             ],
             [
              0.2222222222222222,
              "#7201a8"
             ],
             [
              0.3333333333333333,
              "#9c179e"
             ],
             [
              0.4444444444444444,
              "#bd3786"
             ],
             [
              0.5555555555555556,
              "#d8576b"
             ],
             [
              0.6666666666666666,
              "#ed7953"
             ],
             [
              0.7777777777777778,
              "#fb9f3a"
             ],
             [
              0.8888888888888888,
              "#fdca26"
             ],
             [
              1,
              "#f0f921"
             ]
            ],
            "type": "contour"
           }
          ],
          "contourcarpet": [
           {
            "colorbar": {
             "outlinewidth": 0,
             "ticks": ""
            },
            "type": "contourcarpet"
           }
          ],
          "heatmap": [
           {
            "colorbar": {
             "outlinewidth": 0,
             "ticks": ""
            },
            "colorscale": [
             [
              0,
              "#0d0887"
             ],
             [
              0.1111111111111111,
              "#46039f"
             ],
             [
              0.2222222222222222,
              "#7201a8"
             ],
             [
              0.3333333333333333,
              "#9c179e"
             ],
             [
              0.4444444444444444,
              "#bd3786"
             ],
             [
              0.5555555555555556,
              "#d8576b"
             ],
             [
              0.6666666666666666,
              "#ed7953"
             ],
             [
              0.7777777777777778,
              "#fb9f3a"
             ],
             [
              0.8888888888888888,
              "#fdca26"
             ],
             [
              1,
              "#f0f921"
             ]
            ],
            "type": "heatmap"
           }
          ],
          "heatmapgl": [
           {
            "colorbar": {
             "outlinewidth": 0,
             "ticks": ""
            },
            "colorscale": [
             [
              0,
              "#0d0887"
             ],
             [
              0.1111111111111111,
              "#46039f"
             ],
             [
              0.2222222222222222,
              "#7201a8"
             ],
             [
              0.3333333333333333,
              "#9c179e"
             ],
             [
              0.4444444444444444,
              "#bd3786"
             ],
             [
              0.5555555555555556,
              "#d8576b"
             ],
             [
              0.6666666666666666,
              "#ed7953"
             ],
             [
              0.7777777777777778,
              "#fb9f3a"
             ],
             [
              0.8888888888888888,
              "#fdca26"
             ],
             [
              1,
              "#f0f921"
             ]
            ],
            "type": "heatmapgl"
           }
          ],
          "histogram": [
           {
            "marker": {
             "pattern": {
              "fillmode": "overlay",
              "size": 10,
              "solidity": 0.2
             }
            },
            "type": "histogram"
           }
          ],
          "histogram2d": [
           {
            "colorbar": {
             "outlinewidth": 0,
             "ticks": ""
            },
            "colorscale": [
             [
              0,
              "#0d0887"
             ],
             [
              0.1111111111111111,
              "#46039f"
             ],
             [
              0.2222222222222222,
              "#7201a8"
             ],
             [
              0.3333333333333333,
              "#9c179e"
             ],
             [
              0.4444444444444444,
              "#bd3786"
             ],
             [
              0.5555555555555556,
              "#d8576b"
             ],
             [
              0.6666666666666666,
              "#ed7953"
             ],
             [
              0.7777777777777778,
              "#fb9f3a"
             ],
             [
              0.8888888888888888,
              "#fdca26"
             ],
             [
              1,
              "#f0f921"
             ]
            ],
            "type": "histogram2d"
           }
          ],
          "histogram2dcontour": [
           {
            "colorbar": {
             "outlinewidth": 0,
             "ticks": ""
            },
            "colorscale": [
             [
              0,
              "#0d0887"
             ],
             [
              0.1111111111111111,
              "#46039f"
             ],
             [
              0.2222222222222222,
              "#7201a8"
             ],
             [
              0.3333333333333333,
              "#9c179e"
             ],
             [
              0.4444444444444444,
              "#bd3786"
             ],
             [
              0.5555555555555556,
              "#d8576b"
             ],
             [
              0.6666666666666666,
              "#ed7953"
             ],
             [
              0.7777777777777778,
              "#fb9f3a"
             ],
             [
              0.8888888888888888,
              "#fdca26"
             ],
             [
              1,
              "#f0f921"
             ]
            ],
            "type": "histogram2dcontour"
           }
          ],
          "mesh3d": [
           {
            "colorbar": {
             "outlinewidth": 0,
             "ticks": ""
            },
            "type": "mesh3d"
           }
          ],
          "parcoords": [
           {
            "line": {
             "colorbar": {
              "outlinewidth": 0,
              "ticks": ""
             }
            },
            "type": "parcoords"
           }
          ],
          "pie": [
           {
            "automargin": true,
            "type": "pie"
           }
          ],
          "scatter": [
           {
            "fillpattern": {
             "fillmode": "overlay",
             "size": 10,
             "solidity": 0.2
            },
            "type": "scatter"
           }
          ],
          "scatter3d": [
           {
            "line": {
             "colorbar": {
              "outlinewidth": 0,
              "ticks": ""
             }
            },
            "marker": {
             "colorbar": {
              "outlinewidth": 0,
              "ticks": ""
             }
            },
            "type": "scatter3d"
           }
          ],
          "scattercarpet": [
           {
            "marker": {
             "colorbar": {
              "outlinewidth": 0,
              "ticks": ""
             }
            },
            "type": "scattercarpet"
           }
          ],
          "scattergeo": [
           {
            "marker": {
             "colorbar": {
              "outlinewidth": 0,
              "ticks": ""
             }
            },
            "type": "scattergeo"
           }
          ],
          "scattergl": [
           {
            "marker": {
             "colorbar": {
              "outlinewidth": 0,
              "ticks": ""
             }
            },
            "type": "scattergl"
           }
          ],
          "scattermapbox": [
           {
            "marker": {
             "colorbar": {
              "outlinewidth": 0,
              "ticks": ""
             }
            },
            "type": "scattermapbox"
           }
          ],
          "scatterpolar": [
           {
            "marker": {
             "colorbar": {
              "outlinewidth": 0,
              "ticks": ""
             }
            },
            "type": "scatterpolar"
           }
          ],
          "scatterpolargl": [
           {
            "marker": {
             "colorbar": {
              "outlinewidth": 0,
              "ticks": ""
             }
            },
            "type": "scatterpolargl"
           }
          ],
          "scatterternary": [
           {
            "marker": {
             "colorbar": {
              "outlinewidth": 0,
              "ticks": ""
             }
            },
            "type": "scatterternary"
           }
          ],
          "surface": [
           {
            "colorbar": {
             "outlinewidth": 0,
             "ticks": ""
            },
            "colorscale": [
             [
              0,
              "#0d0887"
             ],
             [
              0.1111111111111111,
              "#46039f"
             ],
             [
              0.2222222222222222,
              "#7201a8"
             ],
             [
              0.3333333333333333,
              "#9c179e"
             ],
             [
              0.4444444444444444,
              "#bd3786"
             ],
             [
              0.5555555555555556,
              "#d8576b"
             ],
             [
              0.6666666666666666,
              "#ed7953"
             ],
             [
              0.7777777777777778,
              "#fb9f3a"
             ],
             [
              0.8888888888888888,
              "#fdca26"
             ],
             [
              1,
              "#f0f921"
             ]
            ],
            "type": "surface"
           }
          ],
          "table": [
           {
            "cells": {
             "fill": {
              "color": "#EBF0F8"
             },
             "line": {
              "color": "white"
             }
            },
            "header": {
             "fill": {
              "color": "#C8D4E3"
             },
             "line": {
              "color": "white"
             }
            },
            "type": "table"
           }
          ]
         },
         "layout": {
          "annotationdefaults": {
           "arrowcolor": "#2a3f5f",
           "arrowhead": 0,
           "arrowwidth": 1
          },
          "autotypenumbers": "strict",
          "coloraxis": {
           "colorbar": {
            "outlinewidth": 0,
            "ticks": ""
           }
          },
          "colorscale": {
           "diverging": [
            [
             0,
             "#8e0152"
            ],
            [
             0.1,
             "#c51b7d"
            ],
            [
             0.2,
             "#de77ae"
            ],
            [
             0.3,
             "#f1b6da"
            ],
            [
             0.4,
             "#fde0ef"
            ],
            [
             0.5,
             "#f7f7f7"
            ],
            [
             0.6,
             "#e6f5d0"
            ],
            [
             0.7,
             "#b8e186"
            ],
            [
             0.8,
             "#7fbc41"
            ],
            [
             0.9,
             "#4d9221"
            ],
            [
             1,
             "#276419"
            ]
           ],
           "sequential": [
            [
             0,
             "#0d0887"
            ],
            [
             0.1111111111111111,
             "#46039f"
            ],
            [
             0.2222222222222222,
             "#7201a8"
            ],
            [
             0.3333333333333333,
             "#9c179e"
            ],
            [
             0.4444444444444444,
             "#bd3786"
            ],
            [
             0.5555555555555556,
             "#d8576b"
            ],
            [
             0.6666666666666666,
             "#ed7953"
            ],
            [
             0.7777777777777778,
             "#fb9f3a"
            ],
            [
             0.8888888888888888,
             "#fdca26"
            ],
            [
             1,
             "#f0f921"
            ]
           ],
           "sequentialminus": [
            [
             0,
             "#0d0887"
            ],
            [
             0.1111111111111111,
             "#46039f"
            ],
            [
             0.2222222222222222,
             "#7201a8"
            ],
            [
             0.3333333333333333,
             "#9c179e"
            ],
            [
             0.4444444444444444,
             "#bd3786"
            ],
            [
             0.5555555555555556,
             "#d8576b"
            ],
            [
             0.6666666666666666,
             "#ed7953"
            ],
            [
             0.7777777777777778,
             "#fb9f3a"
            ],
            [
             0.8888888888888888,
             "#fdca26"
            ],
            [
             1,
             "#f0f921"
            ]
           ]
          },
          "colorway": [
           "#636efa",
           "#EF553B",
           "#00cc96",
           "#ab63fa",
           "#FFA15A",
           "#19d3f3",
           "#FF6692",
           "#B6E880",
           "#FF97FF",
           "#FECB52"
          ],
          "font": {
           "color": "#2a3f5f"
          },
          "geo": {
           "bgcolor": "white",
           "lakecolor": "white",
           "landcolor": "#E5ECF6",
           "showlakes": true,
           "showland": true,
           "subunitcolor": "white"
          },
          "hoverlabel": {
           "align": "left"
          },
          "hovermode": "closest",
          "mapbox": {
           "style": "light"
          },
          "paper_bgcolor": "white",
          "plot_bgcolor": "#E5ECF6",
          "polar": {
           "angularaxis": {
            "gridcolor": "white",
            "linecolor": "white",
            "ticks": ""
           },
           "bgcolor": "#E5ECF6",
           "radialaxis": {
            "gridcolor": "white",
            "linecolor": "white",
            "ticks": ""
           }
          },
          "scene": {
           "xaxis": {
            "backgroundcolor": "#E5ECF6",
            "gridcolor": "white",
            "gridwidth": 2,
            "linecolor": "white",
            "showbackground": true,
            "ticks": "",
            "zerolinecolor": "white"
           },
           "yaxis": {
            "backgroundcolor": "#E5ECF6",
            "gridcolor": "white",
            "gridwidth": 2,
            "linecolor": "white",
            "showbackground": true,
            "ticks": "",
            "zerolinecolor": "white"
           },
           "zaxis": {
            "backgroundcolor": "#E5ECF6",
            "gridcolor": "white",
            "gridwidth": 2,
            "linecolor": "white",
            "showbackground": true,
            "ticks": "",
            "zerolinecolor": "white"
           }
          },
          "shapedefaults": {
           "line": {
            "color": "#2a3f5f"
           }
          },
          "ternary": {
           "aaxis": {
            "gridcolor": "white",
            "linecolor": "white",
            "ticks": ""
           },
           "baxis": {
            "gridcolor": "white",
            "linecolor": "white",
            "ticks": ""
           },
           "bgcolor": "#E5ECF6",
           "caxis": {
            "gridcolor": "white",
            "linecolor": "white",
            "ticks": ""
           }
          },
          "title": {
           "x": 0.05
          },
          "xaxis": {
           "automargin": true,
           "gridcolor": "white",
           "linecolor": "white",
           "ticks": "",
           "title": {
            "standoff": 15
           },
           "zerolinecolor": "white",
           "zerolinewidth": 2
          },
          "yaxis": {
           "automargin": true,
           "gridcolor": "white",
           "linecolor": "white",
           "ticks": "",
           "title": {
            "standoff": 15
           },
           "zerolinecolor": "white",
           "zerolinewidth": 2
          }
         }
        }
       }
      }
     },
     "metadata": {},
     "output_type": "display_data"
    },
    {
     "data": {
      "text/plain": [
       "<Figure size 4000x3000 with 0 Axes>"
      ]
     },
     "metadata": {},
     "output_type": "display_data"
    }
   ],
   "source": [
    "fig = plt.figure(figsize=(40,30))\n",
    "fig = px.pie(pix,names='DEMITIDO').update_traces(textposition = 'inside')\n",
    "fig.show()"
   ]
  },
  {
   "cell_type": "code",
   "execution_count": 12,
   "metadata": {},
   "outputs": [
    {
     "data": {
      "application/vnd.plotly.v1+json": {
       "config": {
        "plotlyServerURL": "https://plot.ly"
       },
       "data": [
        {
         "alignmentgroup": "True",
         "boxpoints": "all",
         "hovertemplate": "SEXO=%{y}<br>SALARIO=%{x}<extra></extra>",
         "legendgroup": "M ",
         "marker": {
          "color": "#636efa"
         },
         "name": "M ",
         "notched": false,
         "offsetgroup": "M ",
         "orientation": "h",
         "showlegend": true,
         "type": "box",
         "x": [
          62506,
          104437,
          59365,
          50178,
          47211,
          92328,
          58709,
          52505,
          57834,
          53250,
          51044,
          103613,
          74312,
          65288,
          62162,
          77692,
          72640,
          52846,
          110929,
          60380,
          66808,
          68678,
          59369,
          50373,
          63108,
          59144,
          68051,
          170500,
          83552,
          92329,
          56294,
          56991,
          55722,
          61568,
          53189,
          96820,
          51259,
          138888,
          48888,
          54285,
          60340,
          64057,
          53366,
          72609,
          70187,
          178000,
          67251,
          52249,
          54933,
          74679,
          59892,
          68898,
          48285,
          62957,
          99020,
          71707,
          64246,
          46998,
          70545,
          83082,
          46837,
          50482,
          65310,
          46654,
          63973,
          71339,
          93206,
          82758,
          46120,
          64520,
          61962,
          93046,
          64738,
          70468,
          63450,
          52788,
          63291,
          83667,
          55800,
          58207,
          157000,
          72106,
          74417,
          57575,
          87921,
          50470,
          46664,
          48495,
          47414,
          53060,
          68829,
          108987,
          93093,
          53564,
          64724,
          47001,
          59472,
          83363,
          61729,
          61809,
          45115,
          55578,
          50428,
          63353,
          53180,
          140920,
          148999,
          46428,
          57975,
          88527,
          87826,
          60656,
          72992,
          87565,
          58273,
          63003,
          61355,
          63025,
          92989,
          90100,
          67176,
          64397,
          75281,
          100416,
          76029,
          58523,
          88976,
          55875,
          113999,
          66541,
          84903,
          58371,
          55140,
          70507,
          65893
         ],
         "x0": " ",
         "xaxis": "x",
         "y": [
          "M ",
          "M ",
          "M ",
          "M ",
          "M ",
          "M ",
          "M ",
          "M ",
          "M ",
          "M ",
          "M ",
          "M ",
          "M ",
          "M ",
          "M ",
          "M ",
          "M ",
          "M ",
          "M ",
          "M ",
          "M ",
          "M ",
          "M ",
          "M ",
          "M ",
          "M ",
          "M ",
          "M ",
          "M ",
          "M ",
          "M ",
          "M ",
          "M ",
          "M ",
          "M ",
          "M ",
          "M ",
          "M ",
          "M ",
          "M ",
          "M ",
          "M ",
          "M ",
          "M ",
          "M ",
          "M ",
          "M ",
          "M ",
          "M ",
          "M ",
          "M ",
          "M ",
          "M ",
          "M ",
          "M ",
          "M ",
          "M ",
          "M ",
          "M ",
          "M ",
          "M ",
          "M ",
          "M ",
          "M ",
          "M ",
          "M ",
          "M ",
          "M ",
          "M ",
          "M ",
          "M ",
          "M ",
          "M ",
          "M ",
          "M ",
          "M ",
          "M ",
          "M ",
          "M ",
          "M ",
          "M ",
          "M ",
          "M ",
          "M ",
          "M ",
          "M ",
          "M ",
          "M ",
          "M ",
          "M ",
          "M ",
          "M ",
          "M ",
          "M ",
          "M ",
          "M ",
          "M ",
          "M ",
          "M ",
          "M ",
          "M ",
          "M ",
          "M ",
          "M ",
          "M ",
          "M ",
          "M ",
          "M ",
          "M ",
          "M ",
          "M ",
          "M ",
          "M ",
          "M ",
          "M ",
          "M ",
          "M ",
          "M ",
          "M ",
          "M ",
          "M ",
          "M ",
          "M ",
          "M ",
          "M ",
          "M ",
          "M ",
          "M ",
          "M ",
          "M ",
          "M ",
          "M ",
          "M ",
          "M ",
          "M "
         ],
         "y0": " ",
         "yaxis": "y"
        },
        {
         "alignmentgroup": "True",
         "boxpoints": "all",
         "hovertemplate": "SEXO=%{y}<br>SALARIO=%{x}<extra></extra>",
         "legendgroup": "F",
         "marker": {
          "color": "#EF553B"
         },
         "name": "F",
         "notched": false,
         "offsetgroup": "F",
         "orientation": "h",
         "showlegend": true,
         "type": "box",
         "x": [
          64955,
          64991,
          50825,
          57568,
          95660,
          47837,
          54670,
          70131,
          59026,
          110000,
          64919,
          62910,
          66441,
          57815,
          106367,
          53492,
          63000,
          64375,
          74326,
          63763,
          93396,
          100031,
          71860,
          61656,
          54237,
          64786,
          64816,
          64066,
          63381,
          56149,
          65729,
          85028,
          57583,
          101199,
          58275,
          59231,
          61584,
          46335,
          70621,
          74241,
          75188,
          62514,
          60070,
          56847,
          59124,
          99280,
          71776,
          65902,
          57748,
          58530,
          55965,
          99351,
          65707,
          53171,
          51337,
          51505,
          59370,
          57815,
          61555,
          114800,
          53018,
          61242,
          66825,
          66149,
          49256,
          63813,
          54828,
          52177,
          62065,
          68099,
          63478,
          97999,
          180000,
          49920,
          55425,
          69340,
          64995,
          68182,
          51908,
          61242,
          45069,
          60724,
          60436,
          105700,
          63322,
          61154,
          68999,
          250000,
          54005,
          45433,
          66074,
          81584,
          63676,
          77915,
          52624,
          51777,
          67237,
          73330,
          52057,
          47434,
          45395,
          62385,
          68407,
          61349,
          105688,
          54132,
          55315,
          62810,
          62659,
          55688,
          72460,
          52599,
          63430,
          52984,
          63695,
          62061,
          66738,
          52674,
          71966,
          63051,
          63515,
          60270,
          45998,
          57954,
          74669,
          74226,
          93554,
          61844,
          46799,
          46430,
          95920,
          46738,
          64971,
          61422,
          89883,
          120000,
          150290,
          60627,
          86214,
          47750,
          56147,
          50923,
          50750,
          52087,
          51920,
          63878,
          55000,
          58939,
          66593,
          64021,
          65714,
          62425,
          47961,
          60120,
          63682,
          59238,
          60754,
          72202,
          58370,
          48413,
          56339,
          63025,
          74813,
          57859,
          49773,
          62068,
          80512,
          50274,
          107226,
          58062,
          59728,
          60446,
          48513,
          220450,
          89292,
          45046
         ],
         "x0": " ",
         "xaxis": "x",
         "y": [
          "F",
          "F",
          "F",
          "F",
          "F",
          "F",
          "F",
          "F",
          "F",
          "F",
          "F",
          "F",
          "F",
          "F",
          "F",
          "F",
          "F",
          "F",
          "F",
          "F",
          "F",
          "F",
          "F",
          "F",
          "F",
          "F",
          "F",
          "F",
          "F",
          "F",
          "F",
          "F",
          "F",
          "F",
          "F",
          "F",
          "F",
          "F",
          "F",
          "F",
          "F",
          "F",
          "F",
          "F",
          "F",
          "F",
          "F",
          "F",
          "F",
          "F",
          "F",
          "F",
          "F",
          "F",
          "F",
          "F",
          "F",
          "F",
          "F",
          "F",
          "F",
          "F",
          "F",
          "F",
          "F",
          "F",
          "F",
          "F",
          "F",
          "F",
          "F",
          "F",
          "F",
          "F",
          "F",
          "F",
          "F",
          "F",
          "F",
          "F",
          "F",
          "F",
          "F",
          "F",
          "F",
          "F",
          "F",
          "F",
          "F",
          "F",
          "F",
          "F",
          "F",
          "F",
          "F",
          "F",
          "F",
          "F",
          "F",
          "F",
          "F",
          "F",
          "F",
          "F",
          "F",
          "F",
          "F",
          "F",
          "F",
          "F",
          "F",
          "F",
          "F",
          "F",
          "F",
          "F",
          "F",
          "F",
          "F",
          "F",
          "F",
          "F",
          "F",
          "F",
          "F",
          "F",
          "F",
          "F",
          "F",
          "F",
          "F",
          "F",
          "F",
          "F",
          "F",
          "F",
          "F",
          "F",
          "F",
          "F",
          "F",
          "F",
          "F",
          "F",
          "F",
          "F",
          "F",
          "F",
          "F",
          "F",
          "F",
          "F",
          "F",
          "F",
          "F",
          "F",
          "F",
          "F",
          "F",
          "F",
          "F",
          "F",
          "F",
          "F",
          "F",
          "F",
          "F",
          "F",
          "F",
          "F",
          "F",
          "F",
          "F",
          "F",
          "F",
          "F"
         ],
         "y0": " ",
         "yaxis": "y"
        }
       ],
       "layout": {
        "boxmode": "overlay",
        "legend": {
         "title": {
          "text": "SEXO"
         },
         "tracegroupgap": 0
        },
        "margin": {
         "t": 60
        },
        "template": {
         "data": {
          "bar": [
           {
            "error_x": {
             "color": "#2a3f5f"
            },
            "error_y": {
             "color": "#2a3f5f"
            },
            "marker": {
             "line": {
              "color": "#E5ECF6",
              "width": 0.5
             },
             "pattern": {
              "fillmode": "overlay",
              "size": 10,
              "solidity": 0.2
             }
            },
            "type": "bar"
           }
          ],
          "barpolar": [
           {
            "marker": {
             "line": {
              "color": "#E5ECF6",
              "width": 0.5
             },
             "pattern": {
              "fillmode": "overlay",
              "size": 10,
              "solidity": 0.2
             }
            },
            "type": "barpolar"
           }
          ],
          "carpet": [
           {
            "aaxis": {
             "endlinecolor": "#2a3f5f",
             "gridcolor": "white",
             "linecolor": "white",
             "minorgridcolor": "white",
             "startlinecolor": "#2a3f5f"
            },
            "baxis": {
             "endlinecolor": "#2a3f5f",
             "gridcolor": "white",
             "linecolor": "white",
             "minorgridcolor": "white",
             "startlinecolor": "#2a3f5f"
            },
            "type": "carpet"
           }
          ],
          "choropleth": [
           {
            "colorbar": {
             "outlinewidth": 0,
             "ticks": ""
            },
            "type": "choropleth"
           }
          ],
          "contour": [
           {
            "colorbar": {
             "outlinewidth": 0,
             "ticks": ""
            },
            "colorscale": [
             [
              0,
              "#0d0887"
             ],
             [
              0.1111111111111111,
              "#46039f"
             ],
             [
              0.2222222222222222,
              "#7201a8"
             ],
             [
              0.3333333333333333,
              "#9c179e"
             ],
             [
              0.4444444444444444,
              "#bd3786"
             ],
             [
              0.5555555555555556,
              "#d8576b"
             ],
             [
              0.6666666666666666,
              "#ed7953"
             ],
             [
              0.7777777777777778,
              "#fb9f3a"
             ],
             [
              0.8888888888888888,
              "#fdca26"
             ],
             [
              1,
              "#f0f921"
             ]
            ],
            "type": "contour"
           }
          ],
          "contourcarpet": [
           {
            "colorbar": {
             "outlinewidth": 0,
             "ticks": ""
            },
            "type": "contourcarpet"
           }
          ],
          "heatmap": [
           {
            "colorbar": {
             "outlinewidth": 0,
             "ticks": ""
            },
            "colorscale": [
             [
              0,
              "#0d0887"
             ],
             [
              0.1111111111111111,
              "#46039f"
             ],
             [
              0.2222222222222222,
              "#7201a8"
             ],
             [
              0.3333333333333333,
              "#9c179e"
             ],
             [
              0.4444444444444444,
              "#bd3786"
             ],
             [
              0.5555555555555556,
              "#d8576b"
             ],
             [
              0.6666666666666666,
              "#ed7953"
             ],
             [
              0.7777777777777778,
              "#fb9f3a"
             ],
             [
              0.8888888888888888,
              "#fdca26"
             ],
             [
              1,
              "#f0f921"
             ]
            ],
            "type": "heatmap"
           }
          ],
          "heatmapgl": [
           {
            "colorbar": {
             "outlinewidth": 0,
             "ticks": ""
            },
            "colorscale": [
             [
              0,
              "#0d0887"
             ],
             [
              0.1111111111111111,
              "#46039f"
             ],
             [
              0.2222222222222222,
              "#7201a8"
             ],
             [
              0.3333333333333333,
              "#9c179e"
             ],
             [
              0.4444444444444444,
              "#bd3786"
             ],
             [
              0.5555555555555556,
              "#d8576b"
             ],
             [
              0.6666666666666666,
              "#ed7953"
             ],
             [
              0.7777777777777778,
              "#fb9f3a"
             ],
             [
              0.8888888888888888,
              "#fdca26"
             ],
             [
              1,
              "#f0f921"
             ]
            ],
            "type": "heatmapgl"
           }
          ],
          "histogram": [
           {
            "marker": {
             "pattern": {
              "fillmode": "overlay",
              "size": 10,
              "solidity": 0.2
             }
            },
            "type": "histogram"
           }
          ],
          "histogram2d": [
           {
            "colorbar": {
             "outlinewidth": 0,
             "ticks": ""
            },
            "colorscale": [
             [
              0,
              "#0d0887"
             ],
             [
              0.1111111111111111,
              "#46039f"
             ],
             [
              0.2222222222222222,
              "#7201a8"
             ],
             [
              0.3333333333333333,
              "#9c179e"
             ],
             [
              0.4444444444444444,
              "#bd3786"
             ],
             [
              0.5555555555555556,
              "#d8576b"
             ],
             [
              0.6666666666666666,
              "#ed7953"
             ],
             [
              0.7777777777777778,
              "#fb9f3a"
             ],
             [
              0.8888888888888888,
              "#fdca26"
             ],
             [
              1,
              "#f0f921"
             ]
            ],
            "type": "histogram2d"
           }
          ],
          "histogram2dcontour": [
           {
            "colorbar": {
             "outlinewidth": 0,
             "ticks": ""
            },
            "colorscale": [
             [
              0,
              "#0d0887"
             ],
             [
              0.1111111111111111,
              "#46039f"
             ],
             [
              0.2222222222222222,
              "#7201a8"
             ],
             [
              0.3333333333333333,
              "#9c179e"
             ],
             [
              0.4444444444444444,
              "#bd3786"
             ],
             [
              0.5555555555555556,
              "#d8576b"
             ],
             [
              0.6666666666666666,
              "#ed7953"
             ],
             [
              0.7777777777777778,
              "#fb9f3a"
             ],
             [
              0.8888888888888888,
              "#fdca26"
             ],
             [
              1,
              "#f0f921"
             ]
            ],
            "type": "histogram2dcontour"
           }
          ],
          "mesh3d": [
           {
            "colorbar": {
             "outlinewidth": 0,
             "ticks": ""
            },
            "type": "mesh3d"
           }
          ],
          "parcoords": [
           {
            "line": {
             "colorbar": {
              "outlinewidth": 0,
              "ticks": ""
             }
            },
            "type": "parcoords"
           }
          ],
          "pie": [
           {
            "automargin": true,
            "type": "pie"
           }
          ],
          "scatter": [
           {
            "fillpattern": {
             "fillmode": "overlay",
             "size": 10,
             "solidity": 0.2
            },
            "type": "scatter"
           }
          ],
          "scatter3d": [
           {
            "line": {
             "colorbar": {
              "outlinewidth": 0,
              "ticks": ""
             }
            },
            "marker": {
             "colorbar": {
              "outlinewidth": 0,
              "ticks": ""
             }
            },
            "type": "scatter3d"
           }
          ],
          "scattercarpet": [
           {
            "marker": {
             "colorbar": {
              "outlinewidth": 0,
              "ticks": ""
             }
            },
            "type": "scattercarpet"
           }
          ],
          "scattergeo": [
           {
            "marker": {
             "colorbar": {
              "outlinewidth": 0,
              "ticks": ""
             }
            },
            "type": "scattergeo"
           }
          ],
          "scattergl": [
           {
            "marker": {
             "colorbar": {
              "outlinewidth": 0,
              "ticks": ""
             }
            },
            "type": "scattergl"
           }
          ],
          "scattermapbox": [
           {
            "marker": {
             "colorbar": {
              "outlinewidth": 0,
              "ticks": ""
             }
            },
            "type": "scattermapbox"
           }
          ],
          "scatterpolar": [
           {
            "marker": {
             "colorbar": {
              "outlinewidth": 0,
              "ticks": ""
             }
            },
            "type": "scatterpolar"
           }
          ],
          "scatterpolargl": [
           {
            "marker": {
             "colorbar": {
              "outlinewidth": 0,
              "ticks": ""
             }
            },
            "type": "scatterpolargl"
           }
          ],
          "scatterternary": [
           {
            "marker": {
             "colorbar": {
              "outlinewidth": 0,
              "ticks": ""
             }
            },
            "type": "scatterternary"
           }
          ],
          "surface": [
           {
            "colorbar": {
             "outlinewidth": 0,
             "ticks": ""
            },
            "colorscale": [
             [
              0,
              "#0d0887"
             ],
             [
              0.1111111111111111,
              "#46039f"
             ],
             [
              0.2222222222222222,
              "#7201a8"
             ],
             [
              0.3333333333333333,
              "#9c179e"
             ],
             [
              0.4444444444444444,
              "#bd3786"
             ],
             [
              0.5555555555555556,
              "#d8576b"
             ],
             [
              0.6666666666666666,
              "#ed7953"
             ],
             [
              0.7777777777777778,
              "#fb9f3a"
             ],
             [
              0.8888888888888888,
              "#fdca26"
             ],
             [
              1,
              "#f0f921"
             ]
            ],
            "type": "surface"
           }
          ],
          "table": [
           {
            "cells": {
             "fill": {
              "color": "#EBF0F8"
             },
             "line": {
              "color": "white"
             }
            },
            "header": {
             "fill": {
              "color": "#C8D4E3"
             },
             "line": {
              "color": "white"
             }
            },
            "type": "table"
           }
          ]
         },
         "layout": {
          "annotationdefaults": {
           "arrowcolor": "#2a3f5f",
           "arrowhead": 0,
           "arrowwidth": 1
          },
          "autotypenumbers": "strict",
          "coloraxis": {
           "colorbar": {
            "outlinewidth": 0,
            "ticks": ""
           }
          },
          "colorscale": {
           "diverging": [
            [
             0,
             "#8e0152"
            ],
            [
             0.1,
             "#c51b7d"
            ],
            [
             0.2,
             "#de77ae"
            ],
            [
             0.3,
             "#f1b6da"
            ],
            [
             0.4,
             "#fde0ef"
            ],
            [
             0.5,
             "#f7f7f7"
            ],
            [
             0.6,
             "#e6f5d0"
            ],
            [
             0.7,
             "#b8e186"
            ],
            [
             0.8,
             "#7fbc41"
            ],
            [
             0.9,
             "#4d9221"
            ],
            [
             1,
             "#276419"
            ]
           ],
           "sequential": [
            [
             0,
             "#0d0887"
            ],
            [
             0.1111111111111111,
             "#46039f"
            ],
            [
             0.2222222222222222,
             "#7201a8"
            ],
            [
             0.3333333333333333,
             "#9c179e"
            ],
            [
             0.4444444444444444,
             "#bd3786"
            ],
            [
             0.5555555555555556,
             "#d8576b"
            ],
            [
             0.6666666666666666,
             "#ed7953"
            ],
            [
             0.7777777777777778,
             "#fb9f3a"
            ],
            [
             0.8888888888888888,
             "#fdca26"
            ],
            [
             1,
             "#f0f921"
            ]
           ],
           "sequentialminus": [
            [
             0,
             "#0d0887"
            ],
            [
             0.1111111111111111,
             "#46039f"
            ],
            [
             0.2222222222222222,
             "#7201a8"
            ],
            [
             0.3333333333333333,
             "#9c179e"
            ],
            [
             0.4444444444444444,
             "#bd3786"
            ],
            [
             0.5555555555555556,
             "#d8576b"
            ],
            [
             0.6666666666666666,
             "#ed7953"
            ],
            [
             0.7777777777777778,
             "#fb9f3a"
            ],
            [
             0.8888888888888888,
             "#fdca26"
            ],
            [
             1,
             "#f0f921"
            ]
           ]
          },
          "colorway": [
           "#636efa",
           "#EF553B",
           "#00cc96",
           "#ab63fa",
           "#FFA15A",
           "#19d3f3",
           "#FF6692",
           "#B6E880",
           "#FF97FF",
           "#FECB52"
          ],
          "font": {
           "color": "#2a3f5f"
          },
          "geo": {
           "bgcolor": "white",
           "lakecolor": "white",
           "landcolor": "#E5ECF6",
           "showlakes": true,
           "showland": true,
           "subunitcolor": "white"
          },
          "hoverlabel": {
           "align": "left"
          },
          "hovermode": "closest",
          "mapbox": {
           "style": "light"
          },
          "paper_bgcolor": "white",
          "plot_bgcolor": "#E5ECF6",
          "polar": {
           "angularaxis": {
            "gridcolor": "white",
            "linecolor": "white",
            "ticks": ""
           },
           "bgcolor": "#E5ECF6",
           "radialaxis": {
            "gridcolor": "white",
            "linecolor": "white",
            "ticks": ""
           }
          },
          "scene": {
           "xaxis": {
            "backgroundcolor": "#E5ECF6",
            "gridcolor": "white",
            "gridwidth": 2,
            "linecolor": "white",
            "showbackground": true,
            "ticks": "",
            "zerolinecolor": "white"
           },
           "yaxis": {
            "backgroundcolor": "#E5ECF6",
            "gridcolor": "white",
            "gridwidth": 2,
            "linecolor": "white",
            "showbackground": true,
            "ticks": "",
            "zerolinecolor": "white"
           },
           "zaxis": {
            "backgroundcolor": "#E5ECF6",
            "gridcolor": "white",
            "gridwidth": 2,
            "linecolor": "white",
            "showbackground": true,
            "ticks": "",
            "zerolinecolor": "white"
           }
          },
          "shapedefaults": {
           "line": {
            "color": "#2a3f5f"
           }
          },
          "ternary": {
           "aaxis": {
            "gridcolor": "white",
            "linecolor": "white",
            "ticks": ""
           },
           "baxis": {
            "gridcolor": "white",
            "linecolor": "white",
            "ticks": ""
           },
           "bgcolor": "#E5ECF6",
           "caxis": {
            "gridcolor": "white",
            "linecolor": "white",
            "ticks": ""
           }
          },
          "title": {
           "x": 0.05
          },
          "xaxis": {
           "automargin": true,
           "gridcolor": "white",
           "linecolor": "white",
           "ticks": "",
           "title": {
            "standoff": 15
           },
           "zerolinecolor": "white",
           "zerolinewidth": 2
          },
          "yaxis": {
           "automargin": true,
           "gridcolor": "white",
           "linecolor": "white",
           "ticks": "",
           "title": {
            "standoff": 15
           },
           "zerolinecolor": "white",
           "zerolinewidth": 2
          }
         }
        },
        "xaxis": {
         "anchor": "y",
         "domain": [
          0,
          1
         ],
         "title": {
          "text": "SALARIO"
         }
        },
        "yaxis": {
         "anchor": "x",
         "categoryarray": [
          "F",
          "M "
         ],
         "categoryorder": "array",
         "domain": [
          0,
          1
         ],
         "title": {
          "text": "SEXO"
         }
        }
       }
      }
     },
     "metadata": {},
     "output_type": "display_data"
    },
    {
     "data": {
      "text/plain": [
       "<Figure size 1500x1000 with 0 Axes>"
      ]
     },
     "metadata": {},
     "output_type": "display_data"
    }
   ],
   "source": [
    "fig = plt.figure(figsize=[15,10])\n",
    "fig = px.box(df,x = 'SALARIO', y= 'SEXO', points='all', color=\"SEXO\")\n",
    "fig.show()"
   ]
  },
  {
   "cell_type": "code",
   "execution_count": 13,
   "metadata": {},
   "outputs": [
    {
     "name": "stdout",
     "output_type": "stream",
     "text": [
      "Requirement already satisfied: seaborn in /home/max/anaconda3/lib/python3.9/site-packages (0.11.2)\n",
      "Requirement already satisfied: scipy>=1.0 in /home/max/anaconda3/lib/python3.9/site-packages (from seaborn) (1.9.1)\n",
      "Requirement already satisfied: matplotlib>=2.2 in /home/max/anaconda3/lib/python3.9/site-packages (from seaborn) (3.5.2)\n",
      "Requirement already satisfied: pandas>=0.23 in /home/max/anaconda3/lib/python3.9/site-packages (from seaborn) (1.4.4)\n",
      "Requirement already satisfied: numpy>=1.15 in /home/max/anaconda3/lib/python3.9/site-packages (from seaborn) (1.21.5)\n",
      "Requirement already satisfied: cycler>=0.10 in /home/max/anaconda3/lib/python3.9/site-packages (from matplotlib>=2.2->seaborn) (0.11.0)\n",
      "Requirement already satisfied: pillow>=6.2.0 in /home/max/anaconda3/lib/python3.9/site-packages (from matplotlib>=2.2->seaborn) (9.2.0)\n",
      "Requirement already satisfied: fonttools>=4.22.0 in /home/max/anaconda3/lib/python3.9/site-packages (from matplotlib>=2.2->seaborn) (4.25.0)\n",
      "Requirement already satisfied: packaging>=20.0 in /home/max/anaconda3/lib/python3.9/site-packages (from matplotlib>=2.2->seaborn) (21.3)\n",
      "Requirement already satisfied: pyparsing>=2.2.1 in /home/max/anaconda3/lib/python3.9/site-packages (from matplotlib>=2.2->seaborn) (3.0.9)\n",
      "Requirement already satisfied: kiwisolver>=1.0.1 in /home/max/anaconda3/lib/python3.9/site-packages (from matplotlib>=2.2->seaborn) (1.4.2)\n",
      "Requirement already satisfied: python-dateutil>=2.7 in /home/max/anaconda3/lib/python3.9/site-packages (from matplotlib>=2.2->seaborn) (2.8.2)\n",
      "Requirement already satisfied: pytz>=2020.1 in /home/max/anaconda3/lib/python3.9/site-packages (from pandas>=0.23->seaborn) (2022.1)\n",
      "Requirement already satisfied: six>=1.5 in /home/max/anaconda3/lib/python3.9/site-packages (from python-dateutil>=2.7->matplotlib>=2.2->seaborn) (1.16.0)\n"
     ]
    }
   ],
   "source": [
    "!python -m pip install seaborn"
   ]
  },
  {
   "cell_type": "code",
   "execution_count": 15,
   "metadata": {},
   "outputs": [
    {
     "ename": "ModuleNotFoundError",
     "evalue": "No module named 'seaborn.objects'",
     "output_type": "error",
     "traceback": [
      "\u001b[0;31m---------------------------------------------------------------------------\u001b[0m",
      "\u001b[0;31mModuleNotFoundError\u001b[0m                       Traceback (most recent call last)",
      "\u001b[0;32m/tmp/ipykernel_34357/3876943968.py\u001b[0m in \u001b[0;36m<module>\u001b[0;34m\u001b[0m\n\u001b[1;32m      1\u001b[0m \u001b[0;32mimport\u001b[0m \u001b[0mmatplotlib\u001b[0m\u001b[0;34m.\u001b[0m\u001b[0mpyplot\u001b[0m \u001b[0;32mas\u001b[0m \u001b[0mplt\u001b[0m\u001b[0;34m\u001b[0m\u001b[0;34m\u001b[0m\u001b[0m\n\u001b[1;32m      2\u001b[0m \u001b[0;32mimport\u001b[0m \u001b[0mseaborn\u001b[0m \u001b[0;32mas\u001b[0m \u001b[0msns\u001b[0m\u001b[0;34m\u001b[0m\u001b[0;34m\u001b[0m\u001b[0m\n\u001b[0;32m----> 3\u001b[0;31m \u001b[0;32mimport\u001b[0m \u001b[0mseaborn\u001b[0m\u001b[0;34m.\u001b[0m\u001b[0mobjects\u001b[0m \u001b[0;32mas\u001b[0m \u001b[0mso\u001b[0m\u001b[0;34m\u001b[0m\u001b[0;34m\u001b[0m\u001b[0m\n\u001b[0m\u001b[1;32m      4\u001b[0m \u001b[0;32mfrom\u001b[0m \u001b[0mmatplotlib\u001b[0m \u001b[0;32mimport\u001b[0m \u001b[0mstyle\u001b[0m\u001b[0;34m\u001b[0m\u001b[0;34m\u001b[0m\u001b[0m\n",
      "\u001b[0;31mModuleNotFoundError\u001b[0m: No module named 'seaborn.objects'"
     ]
    }
   ],
   "source": [
    "import matplotlib.pyplot as plt\n",
    "import seaborn as sns\n",
    "import seaborn.objects as so\n",
    "from matplotlib import style"
   ]
  },
  {
   "cell_type": "code",
   "execution_count": null,
   "metadata": {},
   "outputs": [
    {
     "ename": "NameError",
     "evalue": "name 'so' is not defined",
     "output_type": "error",
     "traceback": [
      "\u001b[0;31m---------------------------------------------------------------------------\u001b[0m",
      "\u001b[0;31mNameError\u001b[0m                                 Traceback (most recent call last)",
      "\u001b[0;32m/tmp/ipykernel_19206/3689541957.py\u001b[0m in \u001b[0;36m<module>\u001b[0;34m\u001b[0m\n\u001b[1;32m      2\u001b[0m     \u001b[0mdf\u001b[0m\u001b[0;34m[\u001b[0m\u001b[0;34m[\u001b[0m\u001b[0;34m'SALARIO'\u001b[0m\u001b[0;34m,\u001b[0m\u001b[0;34m'NAME_POSICAO'\u001b[0m\u001b[0;34m]\u001b[0m\u001b[0;34m]\u001b[0m\u001b[0;34m.\u001b[0m\u001b[0mgroupby\u001b[0m\u001b[0;34m(\u001b[0m\u001b[0;34m'NAME_POSICAO'\u001b[0m\u001b[0;34m)\u001b[0m\u001b[0;34m.\u001b[0m\u001b[0msum\u001b[0m\u001b[0;34m(\u001b[0m\u001b[0;34m)\u001b[0m\u001b[0;34m\u001b[0m\u001b[0;34m\u001b[0m\u001b[0m\n\u001b[1;32m      3\u001b[0m     \u001b[0;34m.\u001b[0m\u001b[0msort_values\u001b[0m\u001b[0;34m(\u001b[0m\u001b[0;34m'SALARIO'\u001b[0m\u001b[0;34m,\u001b[0m \u001b[0mascending\u001b[0m\u001b[0;34m=\u001b[0m\u001b[0;32mFalse\u001b[0m\u001b[0;34m)\u001b[0m\u001b[0;34m.\u001b[0m\u001b[0mreset_index\u001b[0m\u001b[0;34m(\u001b[0m\u001b[0;34m)\u001b[0m\u001b[0;34m\u001b[0m\u001b[0;34m\u001b[0m\u001b[0m\n\u001b[0;32m----> 4\u001b[0;31m     \u001b[0;34m.\u001b[0m\u001b[0mpipe\u001b[0m\u001b[0;34m(\u001b[0m\u001b[0mso\u001b[0m\u001b[0;34m.\u001b[0m\u001b[0mPlot\u001b[0m\u001b[0;34m,\u001b[0m \u001b[0mx\u001b[0m\u001b[0;34m=\u001b[0m\u001b[0;34m'NAME_POSICAO'\u001b[0m\u001b[0;34m,\u001b[0m \u001b[0my\u001b[0m\u001b[0;34m=\u001b[0m\u001b[0;34m'SALARIO'\u001b[0m\u001b[0;34m,\u001b[0m \u001b[0mtext\u001b[0m\u001b[0;34m=\u001b[0m\u001b[0;34m'SALARIO'\u001b[0m\u001b[0;34m)\u001b[0m\u001b[0;34m\u001b[0m\u001b[0;34m\u001b[0m\u001b[0m\n\u001b[0m\u001b[1;32m      5\u001b[0m     \u001b[0;34m.\u001b[0m\u001b[0madd\u001b[0m\u001b[0;34m(\u001b[0m\u001b[0mso\u001b[0m\u001b[0;34m.\u001b[0m\u001b[0mBar\u001b[0m\u001b[0;34m(\u001b[0m\u001b[0mwidth\u001b[0m\u001b[0;34m=\u001b[0m\u001b[0;36m0.9\u001b[0m\u001b[0;34m,\u001b[0m \u001b[0mcolor\u001b[0m\u001b[0;34m=\u001b[0m\u001b[0;34m'blue'\u001b[0m\u001b[0;34m)\u001b[0m\u001b[0;34m)\u001b[0m\u001b[0;34m\u001b[0m\u001b[0;34m\u001b[0m\u001b[0m\n\u001b[1;32m      6\u001b[0m     \u001b[0;34m.\u001b[0m\u001b[0mlabel\u001b[0m\u001b[0;34m(\u001b[0m\u001b[0mx\u001b[0m\u001b[0;34m=\u001b[0m\u001b[0;34m\"Lojas\"\u001b[0m\u001b[0;34m,\u001b[0m \u001b[0my\u001b[0m\u001b[0;34m=\u001b[0m\u001b[0;34m\"Faturamento total em milhões\"\u001b[0m\u001b[0;34m,\u001b[0m \u001b[0mtitle\u001b[0m\u001b[0;34m=\u001b[0m\u001b[0;34m'Faturamento total individual de 10/12/2018 a 26/09/2019'\u001b[0m\u001b[0;34m)\u001b[0m\u001b[0;34m\u001b[0m\u001b[0;34m\u001b[0m\u001b[0m\n",
      "\u001b[0;31mNameError\u001b[0m: name 'so' is not defined"
     ]
    }
   ],
   "source": [
    "fig = (\n",
    "    df[['SALARIO','NAME_POSICAO']].groupby('NAME_POSICAO').sum()\n",
    "    .sort_values('SALARIO', ascending=False).reset_index()\n",
    "    .pipe(so.Plot, x='NAME_POSICAO', y='SALARIO', text='SALARIO')\n",
    "    .add(so.Bar(width=0.9, color='blue'))\n",
    "    .label(x=\"Lojas\", y=\"Faturamento total em milhões\", title='Faturamento total individual de 10/12/2018 a 26/09/2019')\n",
    "    .layout(size=(12, 6))\n",
    "    .add(so.Text(valign='baseline'))\n",
    ")\n",
    "fig.theme({**style.library[\"fivethirtyeight\"]})"
   ]
  },
  {
   "cell_type": "code",
   "execution_count": null,
   "metadata": {},
   "outputs": [
    {
     "data": {
      "application/vnd.plotly.v1+json": {
       "config": {
        "plotlyServerURL": "https://plot.ly"
       },
       "data": [
        {
         "alignmentgroup": "True",
         "hovertemplate": "SALARIO=%{x}<br>NAME_POSICAO=%{y}<extra></extra>",
         "legendgroup": "",
         "marker": {
          "color": "#636efa"
         },
         "name": "",
         "notched": false,
         "offsetgroup": "",
         "orientation": "h",
         "showlegend": false,
         "type": "box",
         "x": [
          62506,
          104437,
          64955,
          64991,
          50825,
          57568,
          95660,
          59365,
          47837,
          50178,
          54670,
          47211,
          92328,
          58709,
          52505,
          57834,
          70131,
          59026,
          110000,
          53250,
          51044,
          64919,
          62910,
          66441,
          57815,
          103613,
          106367,
          74312,
          53492,
          63000,
          65288,
          64375,
          74326,
          63763,
          62162,
          77692,
          72640,
          93396,
          52846,
          100031,
          71860,
          61656,
          110929,
          54237,
          60380,
          66808,
          64786,
          64816,
          68678,
          64066,
          59369,
          50373,
          63108,
          59144,
          68051,
          170500,
          63381,
          83552,
          56149,
          92329,
          65729,
          85028,
          57583,
          56294,
          56991,
          55722,
          101199,
          61568,
          58275,
          53189,
          96820,
          51259,
          59231,
          61584,
          46335,
          70621,
          138888,
          74241,
          75188,
          62514,
          60070,
          48888,
          54285,
          56847,
          60340,
          59124,
          99280,
          71776,
          65902,
          57748,
          64057,
          53366,
          58530,
          72609,
          55965,
          70187,
          178000,
          99351,
          67251,
          65707,
          52249,
          53171,
          51337,
          51505,
          59370,
          54933,
          57815,
          61555,
          114800,
          74679,
          53018,
          59892,
          68898,
          61242,
          66825,
          48285,
          66149,
          49256,
          62957,
          63813,
          99020,
          71707,
          54828,
          64246,
          52177,
          62065,
          46998,
          68099,
          70545,
          63478,
          97999,
          180000,
          49920,
          55425,
          69340,
          64995,
          68182,
          83082,
          51908,
          61242,
          45069,
          60724,
          60436,
          46837,
          105700,
          63322,
          61154,
          68999,
          50482,
          65310,
          250000,
          54005,
          45433,
          46654,
          63973,
          71339,
          93206,
          82758,
          66074,
          46120,
          64520,
          61962,
          81584,
          63676,
          93046,
          64738,
          70468,
          77915,
          52624,
          63450,
          51777,
          67237,
          73330,
          52057,
          47434,
          52788,
          45395,
          62385,
          68407,
          61349,
          105688,
          54132,
          55315,
          62810,
          63291,
          62659,
          55688,
          83667,
          55800,
          58207,
          157000,
          72460,
          72106,
          52599,
          63430,
          74417,
          57575,
          87921,
          50470,
          46664,
          48495,
          52984,
          63695,
          62061,
          66738,
          52674,
          71966,
          63051,
          47414,
          53060,
          68829,
          63515,
          108987,
          93093,
          53564,
          60270,
          45998,
          57954,
          74669,
          74226,
          93554,
          64724,
          47001,
          61844,
          46799,
          59472,
          46430,
          83363,
          95920,
          61729,
          61809,
          45115,
          46738,
          64971,
          55578,
          50428,
          61422,
          63353,
          89883,
          120000,
          150290,
          60627,
          53180,
          140920,
          148999,
          86214,
          47750,
          46428,
          57975,
          88527,
          56147,
          50923,
          50750,
          52087,
          87826,
          51920,
          63878,
          60656,
          72992,
          55000,
          58939,
          66593,
          87565,
          64021,
          65714,
          62425,
          47961,
          58273,
          63003,
          61355,
          60120,
          63682,
          63025,
          59238,
          92989,
          90100,
          60754,
          72202,
          58370,
          48413,
          67176,
          56339,
          64397,
          63025,
          75281,
          100416,
          74813,
          76029,
          57859,
          58523,
          88976,
          55875,
          113999,
          49773,
          62068,
          66541,
          80512,
          50274,
          84903,
          107226,
          58371,
          55140,
          58062,
          59728,
          70507,
          60446,
          65893,
          48513,
          220450,
          89292,
          45046
         ],
         "x0": " ",
         "xaxis": "x",
         "y": [
          "Production Technician I",
          "Sr. DBA",
          "Production Technician II",
          "Production Technician I",
          "Production Technician I",
          "Production Technician I",
          "Software Engineer",
          "Production Technician I",
          "Production Technician I",
          "IT Support",
          "Production Technician I",
          "Production Technician I",
          "Data Analyst",
          "Production Technician I",
          "Production Technician I",
          "Production Technician I",
          "Production Technician II",
          "Production Technician I",
          "Database Administrator",
          "Production Technician I",
          "Production Technician I",
          "Production Technician I",
          "Production Technician I",
          "Production Technician II",
          "Production Technician II",
          "Enterprise Architect",
          "Sr. Accountant",
          "Production Manager",
          "Production Technician I",
          "Accountant I",
          "Production Technician II",
          "Production Technician I",
          "Area Sales Manager",
          "Production Technician II",
          "Production Technician II",
          "Software Engineering Manager",
          "Production Manager",
          "Software Engineer",
          "Production Technician I",
          "Sr. DBA",
          "Area Sales Manager",
          "Production Technician I",
          "BI Director",
          "Production Technician I",
          "Production Technician I",
          "Area Sales Manager",
          "Production Technician I",
          "Production Technician I",
          "IT Support",
          "Production Technician II",
          "Production Technician II",
          "Production Technician I",
          "Production Technician I",
          "Production Technician I",
          "Production Manager",
          "Director of Operations",
          "Production Technician I",
          "Data Analyst",
          "Production Technician I",
          "Sr. Network Engineer",
          "Sales Manager",
          "Sr. Network Engineer",
          "Production Technician I",
          "Production Technician II",
          "Production Technician I",
          "Production Technician I",
          "Software Engineer",
          "Area Sales Manager",
          "Production Technician II",
          "Production Technician I",
          "BI Developer",
          "Production Technician I",
          "Area Sales Manager",
          "Production Technician I",
          "Production Technician I",
          "IT Support",
          "IT Manager - Support",
          "Area Sales Manager",
          "Production Manager",
          "Production Technician I",
          "Production Technician I",
          "Production Technician I",
          "Production Technician I",
          "Production Technician II",
          "Production Technician I",
          "Production Technician I",
          "Software Engineer",
          "Production Technician II",
          "Production Technician II",
          "Production Technician I",
          "Production Technician I",
          "Network Engineer",
          "Production Technician I",
          "Production Technician II",
          "Production Technician II",
          "Area Sales Manager",
          "IT Director",
          "Sr. Accountant",
          "Area Sales Manager",
          "IT Support",
          "Production Technician I",
          "Production Technician I",
          "Production Technician I",
          "Production Technician I",
          "Area Sales Manager",
          "Production Technician I",
          "Production Technician I",
          "Area Sales Manager",
          "Database Administrator",
          "IT Support",
          "Production Technician I",
          "Production Technician I",
          "Production Technician II",
          "IT Support",
          "Production Technician II",
          "Production Technician I",
          "Production Technician II",
          "Production Technician I",
          "Production Manager",
          "Production Technician I",
          "BI Developer",
          "Area Sales Manager",
          "Production Technician I",
          "Production Technician II",
          "Production Technician I",
          "Production Technician I",
          "Production Technician I",
          "Production Technician II",
          "Area Sales Manager",
          "Production Technician II",
          "Database Administrator",
          "Director of Sales",
          "Administrative Assistant",
          "Production Technician I",
          "Production Technician II",
          "Production Technician II",
          "Production Technician II",
          "Production Manager",
          "Production Technician I",
          "Production Technician I",
          "Production Technician I",
          "Production Technician II",
          "Production Technician I",
          "Production Technician I",
          "Database Administrator",
          "Production Technician II",
          "Production Technician I",
          "Sales Manager",
          "Production Technician I",
          "Area Sales Manager",
          "President & CEO",
          "Production Technician I",
          "Production Technician I",
          "Production Technician I",
          "Production Technician I",
          "Area Sales Manager",
          "Sr. Network Engineer",
          "Production Manager",
          "Production Technician II",
          "Production Technician I",
          "Accountant I",
          "Production Technician II",
          "Senior BI Developer",
          "Production Technician I",
          "Shared Services Manager",
          "Production Technician I",
          "Area Sales Manager",
          "Production Manager",
          "Production Technician I",
          "Production Technician II",
          "IT Support",
          "Production Technician II",
          "Production Technician II",
          "Production Technician I",
          "Production Technician I",
          "Production Technician I",
          "Production Technician I",
          "Production Technician II",
          "Production Technician II",
          "Production Technician I",
          "Software Engineer",
          "Production Technician I",
          "Production Technician II",
          "Production Technician I",
          "Area Sales Manager",
          "Production Technician I",
          "Production Technician I",
          "Production Manager",
          "Production Technician II",
          "Production Technician II",
          "IT Manager - Infra",
          "Production Technician II",
          "Production Technician II",
          "Network Engineer",
          "Production Technician I",
          "Production Technician II",
          "Production Technician I",
          "Senior BI Developer",
          "Production Technician I",
          "Production Technician I",
          "Production Technician I",
          "Production Technician I",
          "Area Sales Manager",
          "Production Technician I",
          "Production Technician II",
          "Production Technician I",
          "Production Technician II",
          "Area Sales Manager",
          "Production Technician I",
          "Production Technician I",
          "Area Sales Manager",
          "Production Technician I",
          "Software Engineer",
          "Data Analyst",
          "Production Technician I",
          "Production Technician II",
          "Production Technician I",
          "Production Technician II",
          "Production Manager",
          "Production Technician II",
          "Data Analyst",
          "Production Technician I",
          "Production Technician I",
          "Area Sales Manager",
          "Production Technician I",
          "Production Technician I",
          "Production Technician I",
          "Software Engineer",
          "BI Developer",
          "Production Technician I",
          "Area Sales Manager",
          "Production Technician I",
          "Production Technician I",
          "Production Technician II",
          "Production Technician II",
          "Production Technician I",
          "Production Technician I",
          "Production Technician I",
          "Data Analyst",
          "Principal Data Architect",
          "Data Architect",
          "Production Technician I",
          "Production Technician I",
          "IT Manager - DB",
          "IT Manager - DB",
          "Software Engineer",
          "Production Technician I",
          "Production Technician I",
          "Production Technician II",
          "Data Analyst ",
          "Production Technician I",
          "Production Technician I",
          "Network Engineer",
          "Production Technician I",
          "Data Analyst",
          "Administrative Assistant",
          "Production Technician II",
          "Production Technician II",
          "Sales Manager",
          "Administrative Assistant",
          "Production Technician I",
          "IT Support",
          "Sr. Network Engineer",
          "Production Technician I",
          "Production Manager",
          "Production Technician I",
          "Production Technician I",
          "Area Sales Manager",
          "Accountant I",
          "Production Technician I",
          "Area Sales Manager",
          "Production Manager",
          "Production Technician I",
          "Production Technician I",
          "Software Engineer",
          "BI Developer",
          "Production Technician I",
          "Production Technician II",
          "Area Sales Manager",
          "Production Technician I",
          "Production Technician II",
          "Production Technician I",
          "Area Sales Manager",
          "Production Technician I",
          "Network Engineer",
          "Software Engineer",
          "Production Technician II",
          "Network Engineer",
          "Area Sales Manager",
          "Production Technician I",
          "Production Manager",
          "Area Sales Manager",
          "Database Administrator",
          "Production Technician I",
          "Production Technician I",
          "Production Technician II",
          "Production Manager",
          "Production Technician I",
          "Senior BI Developer",
          "Sr. Network Engineer",
          "Production Technician I",
          "Production Technician I",
          "Production Technician I",
          "Production Technician I",
          "Production Technician II",
          "Production Technician II",
          "Production Technician II",
          "Production Technician I",
          "CIO",
          "Data Analyst",
          "Production Technician I"
         ],
         "y0": " ",
         "yaxis": "y"
        }
       ],
       "layout": {
        "boxmode": "group",
        "legend": {
         "tracegroupgap": 0
        },
        "margin": {
         "t": 60
        },
        "template": {
         "data": {
          "bar": [
           {
            "error_x": {
             "color": "#2a3f5f"
            },
            "error_y": {
             "color": "#2a3f5f"
            },
            "marker": {
             "line": {
              "color": "#E5ECF6",
              "width": 0.5
             },
             "pattern": {
              "fillmode": "overlay",
              "size": 10,
              "solidity": 0.2
             }
            },
            "type": "bar"
           }
          ],
          "barpolar": [
           {
            "marker": {
             "line": {
              "color": "#E5ECF6",
              "width": 0.5
             },
             "pattern": {
              "fillmode": "overlay",
              "size": 10,
              "solidity": 0.2
             }
            },
            "type": "barpolar"
           }
          ],
          "carpet": [
           {
            "aaxis": {
             "endlinecolor": "#2a3f5f",
             "gridcolor": "white",
             "linecolor": "white",
             "minorgridcolor": "white",
             "startlinecolor": "#2a3f5f"
            },
            "baxis": {
             "endlinecolor": "#2a3f5f",
             "gridcolor": "white",
             "linecolor": "white",
             "minorgridcolor": "white",
             "startlinecolor": "#2a3f5f"
            },
            "type": "carpet"
           }
          ],
          "choropleth": [
           {
            "colorbar": {
             "outlinewidth": 0,
             "ticks": ""
            },
            "type": "choropleth"
           }
          ],
          "contour": [
           {
            "colorbar": {
             "outlinewidth": 0,
             "ticks": ""
            },
            "colorscale": [
             [
              0,
              "#0d0887"
             ],
             [
              0.1111111111111111,
              "#46039f"
             ],
             [
              0.2222222222222222,
              "#7201a8"
             ],
             [
              0.3333333333333333,
              "#9c179e"
             ],
             [
              0.4444444444444444,
              "#bd3786"
             ],
             [
              0.5555555555555556,
              "#d8576b"
             ],
             [
              0.6666666666666666,
              "#ed7953"
             ],
             [
              0.7777777777777778,
              "#fb9f3a"
             ],
             [
              0.8888888888888888,
              "#fdca26"
             ],
             [
              1,
              "#f0f921"
             ]
            ],
            "type": "contour"
           }
          ],
          "contourcarpet": [
           {
            "colorbar": {
             "outlinewidth": 0,
             "ticks": ""
            },
            "type": "contourcarpet"
           }
          ],
          "heatmap": [
           {
            "colorbar": {
             "outlinewidth": 0,
             "ticks": ""
            },
            "colorscale": [
             [
              0,
              "#0d0887"
             ],
             [
              0.1111111111111111,
              "#46039f"
             ],
             [
              0.2222222222222222,
              "#7201a8"
             ],
             [
              0.3333333333333333,
              "#9c179e"
             ],
             [
              0.4444444444444444,
              "#bd3786"
             ],
             [
              0.5555555555555556,
              "#d8576b"
             ],
             [
              0.6666666666666666,
              "#ed7953"
             ],
             [
              0.7777777777777778,
              "#fb9f3a"
             ],
             [
              0.8888888888888888,
              "#fdca26"
             ],
             [
              1,
              "#f0f921"
             ]
            ],
            "type": "heatmap"
           }
          ],
          "heatmapgl": [
           {
            "colorbar": {
             "outlinewidth": 0,
             "ticks": ""
            },
            "colorscale": [
             [
              0,
              "#0d0887"
             ],
             [
              0.1111111111111111,
              "#46039f"
             ],
             [
              0.2222222222222222,
              "#7201a8"
             ],
             [
              0.3333333333333333,
              "#9c179e"
             ],
             [
              0.4444444444444444,
              "#bd3786"
             ],
             [
              0.5555555555555556,
              "#d8576b"
             ],
             [
              0.6666666666666666,
              "#ed7953"
             ],
             [
              0.7777777777777778,
              "#fb9f3a"
             ],
             [
              0.8888888888888888,
              "#fdca26"
             ],
             [
              1,
              "#f0f921"
             ]
            ],
            "type": "heatmapgl"
           }
          ],
          "histogram": [
           {
            "marker": {
             "pattern": {
              "fillmode": "overlay",
              "size": 10,
              "solidity": 0.2
             }
            },
            "type": "histogram"
           }
          ],
          "histogram2d": [
           {
            "colorbar": {
             "outlinewidth": 0,
             "ticks": ""
            },
            "colorscale": [
             [
              0,
              "#0d0887"
             ],
             [
              0.1111111111111111,
              "#46039f"
             ],
             [
              0.2222222222222222,
              "#7201a8"
             ],
             [
              0.3333333333333333,
              "#9c179e"
             ],
             [
              0.4444444444444444,
              "#bd3786"
             ],
             [
              0.5555555555555556,
              "#d8576b"
             ],
             [
              0.6666666666666666,
              "#ed7953"
             ],
             [
              0.7777777777777778,
              "#fb9f3a"
             ],
             [
              0.8888888888888888,
              "#fdca26"
             ],
             [
              1,
              "#f0f921"
             ]
            ],
            "type": "histogram2d"
           }
          ],
          "histogram2dcontour": [
           {
            "colorbar": {
             "outlinewidth": 0,
             "ticks": ""
            },
            "colorscale": [
             [
              0,
              "#0d0887"
             ],
             [
              0.1111111111111111,
              "#46039f"
             ],
             [
              0.2222222222222222,
              "#7201a8"
             ],
             [
              0.3333333333333333,
              "#9c179e"
             ],
             [
              0.4444444444444444,
              "#bd3786"
             ],
             [
              0.5555555555555556,
              "#d8576b"
             ],
             [
              0.6666666666666666,
              "#ed7953"
             ],
             [
              0.7777777777777778,
              "#fb9f3a"
             ],
             [
              0.8888888888888888,
              "#fdca26"
             ],
             [
              1,
              "#f0f921"
             ]
            ],
            "type": "histogram2dcontour"
           }
          ],
          "mesh3d": [
           {
            "colorbar": {
             "outlinewidth": 0,
             "ticks": ""
            },
            "type": "mesh3d"
           }
          ],
          "parcoords": [
           {
            "line": {
             "colorbar": {
              "outlinewidth": 0,
              "ticks": ""
             }
            },
            "type": "parcoords"
           }
          ],
          "pie": [
           {
            "automargin": true,
            "type": "pie"
           }
          ],
          "scatter": [
           {
            "fillpattern": {
             "fillmode": "overlay",
             "size": 10,
             "solidity": 0.2
            },
            "type": "scatter"
           }
          ],
          "scatter3d": [
           {
            "line": {
             "colorbar": {
              "outlinewidth": 0,
              "ticks": ""
             }
            },
            "marker": {
             "colorbar": {
              "outlinewidth": 0,
              "ticks": ""
             }
            },
            "type": "scatter3d"
           }
          ],
          "scattercarpet": [
           {
            "marker": {
             "colorbar": {
              "outlinewidth": 0,
              "ticks": ""
             }
            },
            "type": "scattercarpet"
           }
          ],
          "scattergeo": [
           {
            "marker": {
             "colorbar": {
              "outlinewidth": 0,
              "ticks": ""
             }
            },
            "type": "scattergeo"
           }
          ],
          "scattergl": [
           {
            "marker": {
             "colorbar": {
              "outlinewidth": 0,
              "ticks": ""
             }
            },
            "type": "scattergl"
           }
          ],
          "scattermapbox": [
           {
            "marker": {
             "colorbar": {
              "outlinewidth": 0,
              "ticks": ""
             }
            },
            "type": "scattermapbox"
           }
          ],
          "scatterpolar": [
           {
            "marker": {
             "colorbar": {
              "outlinewidth": 0,
              "ticks": ""
             }
            },
            "type": "scatterpolar"
           }
          ],
          "scatterpolargl": [
           {
            "marker": {
             "colorbar": {
              "outlinewidth": 0,
              "ticks": ""
             }
            },
            "type": "scatterpolargl"
           }
          ],
          "scatterternary": [
           {
            "marker": {
             "colorbar": {
              "outlinewidth": 0,
              "ticks": ""
             }
            },
            "type": "scatterternary"
           }
          ],
          "surface": [
           {
            "colorbar": {
             "outlinewidth": 0,
             "ticks": ""
            },
            "colorscale": [
             [
              0,
              "#0d0887"
             ],
             [
              0.1111111111111111,
              "#46039f"
             ],
             [
              0.2222222222222222,
              "#7201a8"
             ],
             [
              0.3333333333333333,
              "#9c179e"
             ],
             [
              0.4444444444444444,
              "#bd3786"
             ],
             [
              0.5555555555555556,
              "#d8576b"
             ],
             [
              0.6666666666666666,
              "#ed7953"
             ],
             [
              0.7777777777777778,
              "#fb9f3a"
             ],
             [
              0.8888888888888888,
              "#fdca26"
             ],
             [
              1,
              "#f0f921"
             ]
            ],
            "type": "surface"
           }
          ],
          "table": [
           {
            "cells": {
             "fill": {
              "color": "#EBF0F8"
             },
             "line": {
              "color": "white"
             }
            },
            "header": {
             "fill": {
              "color": "#C8D4E3"
             },
             "line": {
              "color": "white"
             }
            },
            "type": "table"
           }
          ]
         },
         "layout": {
          "annotationdefaults": {
           "arrowcolor": "#2a3f5f",
           "arrowhead": 0,
           "arrowwidth": 1
          },
          "autotypenumbers": "strict",
          "coloraxis": {
           "colorbar": {
            "outlinewidth": 0,
            "ticks": ""
           }
          },
          "colorscale": {
           "diverging": [
            [
             0,
             "#8e0152"
            ],
            [
             0.1,
             "#c51b7d"
            ],
            [
             0.2,
             "#de77ae"
            ],
            [
             0.3,
             "#f1b6da"
            ],
            [
             0.4,
             "#fde0ef"
            ],
            [
             0.5,
             "#f7f7f7"
            ],
            [
             0.6,
             "#e6f5d0"
            ],
            [
             0.7,
             "#b8e186"
            ],
            [
             0.8,
             "#7fbc41"
            ],
            [
             0.9,
             "#4d9221"
            ],
            [
             1,
             "#276419"
            ]
           ],
           "sequential": [
            [
             0,
             "#0d0887"
            ],
            [
             0.1111111111111111,
             "#46039f"
            ],
            [
             0.2222222222222222,
             "#7201a8"
            ],
            [
             0.3333333333333333,
             "#9c179e"
            ],
            [
             0.4444444444444444,
             "#bd3786"
            ],
            [
             0.5555555555555556,
             "#d8576b"
            ],
            [
             0.6666666666666666,
             "#ed7953"
            ],
            [
             0.7777777777777778,
             "#fb9f3a"
            ],
            [
             0.8888888888888888,
             "#fdca26"
            ],
            [
             1,
             "#f0f921"
            ]
           ],
           "sequentialminus": [
            [
             0,
             "#0d0887"
            ],
            [
             0.1111111111111111,
             "#46039f"
            ],
            [
             0.2222222222222222,
             "#7201a8"
            ],
            [
             0.3333333333333333,
             "#9c179e"
            ],
            [
             0.4444444444444444,
             "#bd3786"
            ],
            [
             0.5555555555555556,
             "#d8576b"
            ],
            [
             0.6666666666666666,
             "#ed7953"
            ],
            [
             0.7777777777777778,
             "#fb9f3a"
            ],
            [
             0.8888888888888888,
             "#fdca26"
            ],
            [
             1,
             "#f0f921"
            ]
           ]
          },
          "colorway": [
           "#636efa",
           "#EF553B",
           "#00cc96",
           "#ab63fa",
           "#FFA15A",
           "#19d3f3",
           "#FF6692",
           "#B6E880",
           "#FF97FF",
           "#FECB52"
          ],
          "font": {
           "color": "#2a3f5f"
          },
          "geo": {
           "bgcolor": "white",
           "lakecolor": "white",
           "landcolor": "#E5ECF6",
           "showlakes": true,
           "showland": true,
           "subunitcolor": "white"
          },
          "hoverlabel": {
           "align": "left"
          },
          "hovermode": "closest",
          "mapbox": {
           "style": "light"
          },
          "paper_bgcolor": "white",
          "plot_bgcolor": "#E5ECF6",
          "polar": {
           "angularaxis": {
            "gridcolor": "white",
            "linecolor": "white",
            "ticks": ""
           },
           "bgcolor": "#E5ECF6",
           "radialaxis": {
            "gridcolor": "white",
            "linecolor": "white",
            "ticks": ""
           }
          },
          "scene": {
           "xaxis": {
            "backgroundcolor": "#E5ECF6",
            "gridcolor": "white",
            "gridwidth": 2,
            "linecolor": "white",
            "showbackground": true,
            "ticks": "",
            "zerolinecolor": "white"
           },
           "yaxis": {
            "backgroundcolor": "#E5ECF6",
            "gridcolor": "white",
            "gridwidth": 2,
            "linecolor": "white",
            "showbackground": true,
            "ticks": "",
            "zerolinecolor": "white"
           },
           "zaxis": {
            "backgroundcolor": "#E5ECF6",
            "gridcolor": "white",
            "gridwidth": 2,
            "linecolor": "white",
            "showbackground": true,
            "ticks": "",
            "zerolinecolor": "white"
           }
          },
          "shapedefaults": {
           "line": {
            "color": "#2a3f5f"
           }
          },
          "ternary": {
           "aaxis": {
            "gridcolor": "white",
            "linecolor": "white",
            "ticks": ""
           },
           "baxis": {
            "gridcolor": "white",
            "linecolor": "white",
            "ticks": ""
           },
           "bgcolor": "#E5ECF6",
           "caxis": {
            "gridcolor": "white",
            "linecolor": "white",
            "ticks": ""
           }
          },
          "title": {
           "x": 0.05
          },
          "xaxis": {
           "automargin": true,
           "gridcolor": "white",
           "linecolor": "white",
           "ticks": "",
           "title": {
            "standoff": 15
           },
           "zerolinecolor": "white",
           "zerolinewidth": 2
          },
          "yaxis": {
           "automargin": true,
           "gridcolor": "white",
           "linecolor": "white",
           "ticks": "",
           "title": {
            "standoff": 15
           },
           "zerolinecolor": "white",
           "zerolinewidth": 2
          }
         }
        },
        "xaxis": {
         "anchor": "y",
         "domain": [
          0,
          1
         ],
         "title": {
          "text": "SALARIO"
         }
        },
        "yaxis": {
         "anchor": "x",
         "domain": [
          0,
          1
         ],
         "title": {
          "text": "NAME_POSICAO"
         }
        }
       }
      }
     },
     "metadata": {},
     "output_type": "display_data"
    }
   ],
   "source": [
    "fig = px.box(df, x='SALARIO', y='NAME_POSICAO')\n",
    "fig.show()"
   ]
  },
  {
   "cell_type": "code",
   "execution_count": null,
   "metadata": {},
   "outputs": [
    {
     "data": {
      "text/html": [
       "<div>\n",
       "<style scoped>\n",
       "    .dataframe tbody tr th:only-of-type {\n",
       "        vertical-align: middle;\n",
       "    }\n",
       "\n",
       "    .dataframe tbody tr th {\n",
       "        vertical-align: top;\n",
       "    }\n",
       "\n",
       "    .dataframe thead th {\n",
       "        text-align: right;\n",
       "    }\n",
       "</style>\n",
       "<table border=\"1\" class=\"dataframe\">\n",
       "  <thead>\n",
       "    <tr style=\"text-align: right;\">\n",
       "      <th></th>\n",
       "      <th>Nome</th>\n",
       "      <th>CASADO</th>\n",
       "      <th>ESTADO_CIVIL</th>\n",
       "      <th>GENERO</th>\n",
       "      <th>STATUS_EMPREGO</th>\n",
       "      <th>DEPARTAMENTOID</th>\n",
       "      <th>PONTUACAO_DESEMPENHO</th>\n",
       "      <th>DIVERSIDADE</th>\n",
       "      <th>SALARIO</th>\n",
       "      <th>DEMITIDO</th>\n",
       "      <th>...</th>\n",
       "      <th>ID_GERENTE</th>\n",
       "      <th>FONTE_RECRUTAMENTO</th>\n",
       "      <th>PONTUACAO_PERFORMACE</th>\n",
       "      <th>ENGAJAMENTO</th>\n",
       "      <th>PONTUACAO_SATISFACAO</th>\n",
       "      <th>N_PROJETOS</th>\n",
       "      <th>DATA_DESEMPENHO</th>\n",
       "      <th>N_ATRASOS</th>\n",
       "      <th>N_AUSENTE</th>\n",
       "      <th>Idade</th>\n",
       "    </tr>\n",
       "  </thead>\n",
       "  <tbody>\n",
       "    <tr>\n",
       "      <th>0</th>\n",
       "      <td>Adinolfi, Wilson  K</td>\n",
       "      <td>0</td>\n",
       "      <td>0</td>\n",
       "      <td>1</td>\n",
       "      <td>1</td>\n",
       "      <td>5</td>\n",
       "      <td>4</td>\n",
       "      <td>0</td>\n",
       "      <td>62506</td>\n",
       "      <td>0</td>\n",
       "      <td>...</td>\n",
       "      <td>22.0</td>\n",
       "      <td>LinkedIn</td>\n",
       "      <td>Exceeds</td>\n",
       "      <td>4.60</td>\n",
       "      <td>5</td>\n",
       "      <td>0</td>\n",
       "      <td>1/17/2019</td>\n",
       "      <td>0</td>\n",
       "      <td>1</td>\n",
       "      <td>40</td>\n",
       "    </tr>\n",
       "    <tr>\n",
       "      <th>1</th>\n",
       "      <td>Ait Sidi, Karthikeyan</td>\n",
       "      <td>1</td>\n",
       "      <td>1</td>\n",
       "      <td>1</td>\n",
       "      <td>5</td>\n",
       "      <td>3</td>\n",
       "      <td>3</td>\n",
       "      <td>0</td>\n",
       "      <td>104437</td>\n",
       "      <td>1</td>\n",
       "      <td>...</td>\n",
       "      <td>4.0</td>\n",
       "      <td>Indeed</td>\n",
       "      <td>Fully Meets</td>\n",
       "      <td>4.96</td>\n",
       "      <td>3</td>\n",
       "      <td>6</td>\n",
       "      <td>2/24/2016</td>\n",
       "      <td>0</td>\n",
       "      <td>17</td>\n",
       "      <td>48</td>\n",
       "    </tr>\n",
       "    <tr>\n",
       "      <th>2</th>\n",
       "      <td>Akinkuolie, Sarah</td>\n",
       "      <td>1</td>\n",
       "      <td>1</td>\n",
       "      <td>0</td>\n",
       "      <td>5</td>\n",
       "      <td>5</td>\n",
       "      <td>3</td>\n",
       "      <td>0</td>\n",
       "      <td>64955</td>\n",
       "      <td>1</td>\n",
       "      <td>...</td>\n",
       "      <td>20.0</td>\n",
       "      <td>LinkedIn</td>\n",
       "      <td>Fully Meets</td>\n",
       "      <td>3.02</td>\n",
       "      <td>3</td>\n",
       "      <td>0</td>\n",
       "      <td>5/15/2012</td>\n",
       "      <td>0</td>\n",
       "      <td>3</td>\n",
       "      <td>35</td>\n",
       "    </tr>\n",
       "    <tr>\n",
       "      <th>3</th>\n",
       "      <td>Alagbe,Trina</td>\n",
       "      <td>1</td>\n",
       "      <td>1</td>\n",
       "      <td>0</td>\n",
       "      <td>1</td>\n",
       "      <td>5</td>\n",
       "      <td>3</td>\n",
       "      <td>0</td>\n",
       "      <td>64991</td>\n",
       "      <td>0</td>\n",
       "      <td>...</td>\n",
       "      <td>16.0</td>\n",
       "      <td>Indeed</td>\n",
       "      <td>Fully Meets</td>\n",
       "      <td>4.84</td>\n",
       "      <td>5</td>\n",
       "      <td>0</td>\n",
       "      <td>1/3/2019</td>\n",
       "      <td>0</td>\n",
       "      <td>15</td>\n",
       "      <td>35</td>\n",
       "    </tr>\n",
       "    <tr>\n",
       "      <th>4</th>\n",
       "      <td>Anderson, Carol</td>\n",
       "      <td>0</td>\n",
       "      <td>2</td>\n",
       "      <td>0</td>\n",
       "      <td>5</td>\n",
       "      <td>5</td>\n",
       "      <td>3</td>\n",
       "      <td>0</td>\n",
       "      <td>50825</td>\n",
       "      <td>1</td>\n",
       "      <td>...</td>\n",
       "      <td>39.0</td>\n",
       "      <td>Google Search</td>\n",
       "      <td>Fully Meets</td>\n",
       "      <td>5.00</td>\n",
       "      <td>4</td>\n",
       "      <td>0</td>\n",
       "      <td>2/1/2016</td>\n",
       "      <td>0</td>\n",
       "      <td>2</td>\n",
       "      <td>34</td>\n",
       "    </tr>\n",
       "    <tr>\n",
       "      <th>...</th>\n",
       "      <td>...</td>\n",
       "      <td>...</td>\n",
       "      <td>...</td>\n",
       "      <td>...</td>\n",
       "      <td>...</td>\n",
       "      <td>...</td>\n",
       "      <td>...</td>\n",
       "      <td>...</td>\n",
       "      <td>...</td>\n",
       "      <td>...</td>\n",
       "      <td>...</td>\n",
       "      <td>...</td>\n",
       "      <td>...</td>\n",
       "      <td>...</td>\n",
       "      <td>...</td>\n",
       "      <td>...</td>\n",
       "      <td>...</td>\n",
       "      <td>...</td>\n",
       "      <td>...</td>\n",
       "      <td>...</td>\n",
       "      <td>...</td>\n",
       "    </tr>\n",
       "    <tr>\n",
       "      <th>306</th>\n",
       "      <td>Woodson, Jason</td>\n",
       "      <td>0</td>\n",
       "      <td>0</td>\n",
       "      <td>1</td>\n",
       "      <td>1</td>\n",
       "      <td>5</td>\n",
       "      <td>3</td>\n",
       "      <td>0</td>\n",
       "      <td>65893</td>\n",
       "      <td>0</td>\n",
       "      <td>...</td>\n",
       "      <td>20.0</td>\n",
       "      <td>LinkedIn</td>\n",
       "      <td>Fully Meets</td>\n",
       "      <td>4.07</td>\n",
       "      <td>4</td>\n",
       "      <td>0</td>\n",
       "      <td>2/28/2019</td>\n",
       "      <td>0</td>\n",
       "      <td>13</td>\n",
       "      <td>38</td>\n",
       "    </tr>\n",
       "    <tr>\n",
       "      <th>307</th>\n",
       "      <td>Ybarra, Catherine</td>\n",
       "      <td>0</td>\n",
       "      <td>0</td>\n",
       "      <td>0</td>\n",
       "      <td>5</td>\n",
       "      <td>5</td>\n",
       "      <td>1</td>\n",
       "      <td>0</td>\n",
       "      <td>48513</td>\n",
       "      <td>1</td>\n",
       "      <td>...</td>\n",
       "      <td>12.0</td>\n",
       "      <td>Google Search</td>\n",
       "      <td>PIP</td>\n",
       "      <td>3.20</td>\n",
       "      <td>2</td>\n",
       "      <td>0</td>\n",
       "      <td>9/2/2015</td>\n",
       "      <td>5</td>\n",
       "      <td>4</td>\n",
       "      <td>41</td>\n",
       "    </tr>\n",
       "    <tr>\n",
       "      <th>308</th>\n",
       "      <td>Zamora, Jennifer</td>\n",
       "      <td>0</td>\n",
       "      <td>0</td>\n",
       "      <td>0</td>\n",
       "      <td>1</td>\n",
       "      <td>3</td>\n",
       "      <td>4</td>\n",
       "      <td>0</td>\n",
       "      <td>220450</td>\n",
       "      <td>0</td>\n",
       "      <td>...</td>\n",
       "      <td>2.0</td>\n",
       "      <td>Employee Referral</td>\n",
       "      <td>Exceeds</td>\n",
       "      <td>4.60</td>\n",
       "      <td>5</td>\n",
       "      <td>6</td>\n",
       "      <td>2/21/2019</td>\n",
       "      <td>0</td>\n",
       "      <td>16</td>\n",
       "      <td>44</td>\n",
       "    </tr>\n",
       "    <tr>\n",
       "      <th>309</th>\n",
       "      <td>Zhou, Julia</td>\n",
       "      <td>0</td>\n",
       "      <td>0</td>\n",
       "      <td>0</td>\n",
       "      <td>1</td>\n",
       "      <td>3</td>\n",
       "      <td>3</td>\n",
       "      <td>0</td>\n",
       "      <td>89292</td>\n",
       "      <td>0</td>\n",
       "      <td>...</td>\n",
       "      <td>4.0</td>\n",
       "      <td>Employee Referral</td>\n",
       "      <td>Fully Meets</td>\n",
       "      <td>5.00</td>\n",
       "      <td>3</td>\n",
       "      <td>5</td>\n",
       "      <td>2/1/2019</td>\n",
       "      <td>0</td>\n",
       "      <td>11</td>\n",
       "      <td>44</td>\n",
       "    </tr>\n",
       "    <tr>\n",
       "      <th>310</th>\n",
       "      <td>Zima, Colleen</td>\n",
       "      <td>0</td>\n",
       "      <td>4</td>\n",
       "      <td>0</td>\n",
       "      <td>1</td>\n",
       "      <td>5</td>\n",
       "      <td>3</td>\n",
       "      <td>0</td>\n",
       "      <td>45046</td>\n",
       "      <td>0</td>\n",
       "      <td>...</td>\n",
       "      <td>14.0</td>\n",
       "      <td>LinkedIn</td>\n",
       "      <td>Fully Meets</td>\n",
       "      <td>4.50</td>\n",
       "      <td>5</td>\n",
       "      <td>0</td>\n",
       "      <td>1/30/2019</td>\n",
       "      <td>0</td>\n",
       "      <td>2</td>\n",
       "      <td>45</td>\n",
       "    </tr>\n",
       "  </tbody>\n",
       "</table>\n",
       "<p>311 rows × 35 columns</p>\n",
       "</div>"
      ],
      "text/plain": [
       "                         Nome  CASADO  ESTADO_CIVIL  GENERO  STATUS_EMPREGO  \\\n",
       "0         Adinolfi, Wilson  K       0             0       1               1   \n",
       "1    Ait Sidi, Karthikeyan          1             1       1               5   \n",
       "2           Akinkuolie, Sarah       1             1       0               5   \n",
       "3                Alagbe,Trina       1             1       0               1   \n",
       "4            Anderson, Carol        0             2       0               5   \n",
       "..                        ...     ...           ...     ...             ...   \n",
       "306            Woodson, Jason       0             0       1               1   \n",
       "307        Ybarra, Catherine        0             0       0               5   \n",
       "308          Zamora, Jennifer       0             0       0               1   \n",
       "309               Zhou, Julia       0             0       0               1   \n",
       "310             Zima, Colleen       0             4       0               1   \n",
       "\n",
       "     DEPARTAMENTOID  PONTUACAO_DESEMPENHO  DIVERSIDADE  SALARIO  DEMITIDO  \\\n",
       "0                 5                     4            0    62506         0   \n",
       "1                 3                     3            0   104437         1   \n",
       "2                 5                     3            0    64955         1   \n",
       "3                 5                     3            0    64991         0   \n",
       "4                 5                     3            0    50825         1   \n",
       "..              ...                   ...          ...      ...       ...   \n",
       "306               5                     3            0    65893         0   \n",
       "307               5                     1            0    48513         1   \n",
       "308               3                     4            0   220450         0   \n",
       "309               3                     3            0    89292         0   \n",
       "310               5                     3            0    45046         0   \n",
       "\n",
       "     ...  ID_GERENTE FONTE_RECRUTAMENTO PONTUACAO_PERFORMACE  ENGAJAMENTO  \\\n",
       "0    ...        22.0           LinkedIn              Exceeds         4.60   \n",
       "1    ...         4.0             Indeed          Fully Meets         4.96   \n",
       "2    ...        20.0           LinkedIn          Fully Meets         3.02   \n",
       "3    ...        16.0             Indeed          Fully Meets         4.84   \n",
       "4    ...        39.0      Google Search          Fully Meets         5.00   \n",
       "..   ...         ...                ...                  ...          ...   \n",
       "306  ...        20.0           LinkedIn          Fully Meets         4.07   \n",
       "307  ...        12.0      Google Search                  PIP         3.20   \n",
       "308  ...         2.0  Employee Referral              Exceeds         4.60   \n",
       "309  ...         4.0  Employee Referral          Fully Meets         5.00   \n",
       "310  ...        14.0           LinkedIn          Fully Meets         4.50   \n",
       "\n",
       "    PONTUACAO_SATISFACAO N_PROJETOS DATA_DESEMPENHO N_ATRASOS N_AUSENTE Idade  \n",
       "0                      5          0       1/17/2019         0         1    40  \n",
       "1                      3          6       2/24/2016         0        17    48  \n",
       "2                      3          0       5/15/2012         0         3    35  \n",
       "3                      5          0        1/3/2019         0        15    35  \n",
       "4                      4          0        2/1/2016         0         2    34  \n",
       "..                   ...        ...             ...       ...       ...   ...  \n",
       "306                    4          0       2/28/2019         0        13    38  \n",
       "307                    2          0        9/2/2015         5         4    41  \n",
       "308                    5          6       2/21/2019         0        16    44  \n",
       "309                    3          5        2/1/2019         0        11    44  \n",
       "310                    5          0       1/30/2019         0         2    45  \n",
       "\n",
       "[311 rows x 35 columns]"
      ]
     },
     "execution_count": 155,
     "metadata": {},
     "output_type": "execute_result"
    }
   ],
   "source": [
    "df"
   ]
  },
  {
   "cell_type": "code",
   "execution_count": null,
   "metadata": {},
   "outputs": [
    {
     "data": {
      "text/plain": [
       "<AxesSubplot:>"
      ]
     },
     "execution_count": 156,
     "metadata": {},
     "output_type": "execute_result"
    },
    {
     "data": {
      "image/png": "[encoded data removed]",
      "text/plain": [
       "<Figure size 2000x2000 with 2 Axes>"
      ]
     },
     "metadata": {},
     "output_type": "display_data"
    }
   ],
   "source": [
    "correlations = df.corr()\n",
    "f, ax = plt.subplots(figsize = (20,20))\n",
    "sns.heatmap(correlations, annot = True)"
   ]
  }
 ],
 "metadata": {
  "kernelspec": {
   "display_name": "base",
   "language": "python",
   "name": "python3"
  },
  "language_info": {
   "codemirror_mode": {
    "name": "ipython",
    "version": 3
   },
   "file_extension": ".py",
   "mimetype": "text/x-python",
   "name": "python",
   "nbconvert_exporter": "python",
   "pygments_lexer": "ipython3",
   "version": "3.9.13"
  },
  "orig_nbformat": 4,
  "vscode": {
   "interpreter": {
    "hash": "4632010a9e13d22e5db6181f606bb74cee322bdf2be96a9f982ade689500be32"
   }
  }
 },
 "nbformat": 4,
 "nbformat_minor": 2
}
